{
 "cells": [
  {
   "cell_type": "code",
   "execution_count": 36,
   "id": "e03661c8",
   "metadata": {},
   "outputs": [],
   "source": [
    "import pandas as pd\n",
    "import numpy as np\n",
    "from sklearn.feature_extraction.text import TfidfVectorizer\n",
    "from sklearn.decomposition import TruncatedSVD\n",
    "from sklearn.pipeline import Pipeline\n",
    "import regex as re\n",
    "import nltk\n",
    "#nltk.download('stopwords')\n",
    "from nltk.corpus import stopwords\n",
    "from gensim.models import LsiModel\n",
    "from gensim.models.coherencemodel import CoherenceModel\n",
    "from gensim import corpora\n",
    "from sklearn.model_selection import train_test_split\n",
    "from nltk.stem import WordNetLemmatizer"
   ]
  },
  {
   "cell_type": "code",
   "execution_count": 4,
   "id": "b6f8b7fe",
   "metadata": {},
   "outputs": [],
   "source": [
    "df18 = pd.read_csv('Data/2018-merged.csv')\n",
    "df19 = pd.read_csv('Data/2019-merged.csv')\n",
    "df20 = pd.read_csv('Data/2020-merged.csv')\n",
    "df21 = pd.read_csv('Data/2021-merged.csv')\n",
    "df22 = pd.read_csv('Data/2022-merged.csv')\n",
    "\n",
    "df18['Year'] = 2018\n",
    "df19['Year'] = 2019\n",
    "df20['Year'] = 2020\n",
    "df21['Year'] = 2021\n",
    "df22['Year'] = 2022\n",
    "\n",
    "df = pd.concat([df18,df19,df20,df21,df22], ignore_index=True)"
   ]
  },
  {
   "cell_type": "code",
   "execution_count": 3,
   "id": "0f2f31c4",
   "metadata": {},
   "outputs": [
    {
     "name": "stderr",
     "output_type": "stream",
     "text": [
      "[nltk_data] Downloading package stopwords to\n",
      "[nltk_data]     /Users/shreya/nltk_data...\n",
      "[nltk_data]   Package stopwords is already up-to-date!\n"
     ]
    },
    {
     "data": {
      "text/plain": [
       "True"
      ]
     },
     "execution_count": 3,
     "metadata": {},
     "output_type": "execute_result"
    }
   ],
   "source": [
    "nltk.download('stopwords')"
   ]
  },
  {
   "cell_type": "code",
   "execution_count": 5,
   "id": "a17eb907",
   "metadata": {},
   "outputs": [],
   "source": [
    "df ,df_test = train_test_split(df,test_size=0.1,random_state=42)"
   ]
  },
  {
   "cell_type": "code",
   "execution_count": null,
   "id": "089919be",
   "metadata": {},
   "outputs": [],
   "source": [
    "df['length'] = df['Abstract'].str.len()\n",
    "df = df[df['length']>15]"
   ]
  },
  {
   "cell_type": "code",
   "execution_count": 37,
   "id": "4d183d84",
   "metadata": {},
   "outputs": [
    {
     "data": {
      "text/plain": [
       "(1486362, 165152)"
      ]
     },
     "execution_count": 37,
     "metadata": {},
     "output_type": "execute_result"
    }
   ],
   "source": [
    "len(df),len(df_test)"
   ]
  },
  {
   "cell_type": "code",
   "execution_count": 62,
   "id": "1569b2ec",
   "metadata": {},
   "outputs": [],
   "source": [
    "stop = stopwords.words('english')\n",
    "stop.extend(['from', 'subject', 're', 'edu', 'based','base','use' , 'first' , 'second' , 'may' , 'data' , 'memeber', 'display' ,\n",
    "             'include' , 'includes', 'including','method', 'display' , 'one' , 'unit', 'third', 'end' , 'side' , 'least' , \n",
    "             'configured', 'part', 'said' , 'least' , 'comprising', 'body' , 'position' , 'support' , 'user','provided',\n",
    "             'provide','wherein','data','comprises','system','device','devices','systems','thereof','present',\n",
    "            'layer','portion','plurality','process','processing','surface','information','region','member'])"
   ]
  },
  {
   "cell_type": "code",
   "execution_count": 63,
   "id": "6589b0a1",
   "metadata": {},
   "outputs": [],
   "source": [
    "def preprocess(title):\n",
    "    result = title.lower()\n",
    "    \n",
    "    result = result.strip(' \"\\'')\n",
    "    result = re.sub(r'[^\\w\\s]', ' ', result)\n",
    "    result = re.sub(r'\\s+', ' ', result)\n",
    "    words = result.split()\n",
    "    \n",
    "    title_2=[item for item in words if item not in stop]\n",
    "    \n",
    "    lemmatizer = WordNetLemmatizer()\n",
    "    fin_title = []\n",
    "    for word in title_2:\n",
    "        \n",
    "        word = str(lemmatizer.lemmatize(word))\n",
    "        fin_title.append(word)\n",
    "    \n",
    "    return list(fin_title)\n"
   ]
  },
  {
   "cell_type": "code",
   "execution_count": 8,
   "id": "95c38330",
   "metadata": {},
   "outputs": [
    {
     "name": "stdout",
     "output_type": "stream",
     "text": [
      "Words in 0: 0.663*\"first\" + 0.472*\"second\" + 0.181*\"device\" + 0.177*\"includes\" + 0.161*\"one\".\n",
      "Words in 1: -0.382*\"first\" + 0.358*\"data\" + 0.349*\"one\" + 0.314*\"device\" + -0.295*\"second\".\n",
      "Words in 2: -0.481*\"data\" + 0.370*\"layer\" + 0.305*\"one\" + 0.268*\"least\" + 0.233*\"portion\".\n"
     ]
    }
   ],
   "source": [
    "# perform SVD on the bag of words with the LsiModel to extract 3 topics\n",
    "lsi = LsiModel(bow, num_topics=3, id2word=dictionary)\n",
    "\n",
    "# find the 5 words with the srongest association to the derived topics\n",
    "for topic_num, words in lsi.print_topics(num_words=5):\n",
    "    print('Words in {}: {}.'.format(topic_num, words))"
   ]
  },
  {
   "cell_type": "code",
   "execution_count": 9,
   "id": "79032dcd",
   "metadata": {},
   "outputs": [
    {
     "name": "stdout",
     "output_type": "stream",
     "text": [
      "Words in 0: 0.663*\"first\" + 0.472*\"second\" + 0.181*\"device\" + 0.177*\"includes\" + 0.161*\"one\" + 0.127*\"data\".\n",
      "Words in 1: -0.382*\"first\" + 0.359*\"data\" + 0.349*\"one\" + 0.313*\"device\" + -0.295*\"second\" + 0.216*\"least\".\n",
      "Words in 2: -0.482*\"data\" + 0.364*\"layer\" + 0.303*\"one\" + 0.267*\"least\" + 0.236*\"portion\" + 0.231*\"surface\".\n",
      "Words in 3: 0.760*\"device\" + -0.436*\"data\" + -0.309*\"one\" + -0.210*\"least\" + 0.099*\"information\" + 0.092*\"control\".\n",
      "Words in 4: -0.683*\"layer\" + -0.435*\"data\" + 0.298*\"one\" + 0.222*\"least\" + -0.136*\"substrate\" + 0.114*\"signal\".\n"
     ]
    }
   ],
   "source": [
    "# perform SVD on the bag of words with the LsiModel to extract 5 topics\n",
    "lsi = LsiModel(bow, num_topics=5, id2word=dictionary)\n",
    "\n",
    "# find the 5 words with the srongest association to the derived topics\n",
    "for topic_num, words in lsi.print_topics(num_words=6):\n",
    "    print('Words in {}: {}.'.format(topic_num, words))"
   ]
  },
  {
   "cell_type": "code",
   "execution_count": 10,
   "id": "c59bac13",
   "metadata": {},
   "outputs": [
    {
     "name": "stdout",
     "output_type": "stream",
     "text": [
      "Words in 0: 0.663*\"first\" + 0.472*\"second\" + 0.181*\"device\" + 0.177*\"includes\" + 0.161*\"one\" + 0.127*\"data\".\n",
      "Words in 1: -0.382*\"first\" + 0.359*\"data\" + 0.350*\"one\" + 0.314*\"device\" + -0.295*\"second\" + 0.216*\"least\".\n",
      "Words in 2: -0.483*\"data\" + 0.369*\"layer\" + 0.306*\"one\" + 0.268*\"least\" + 0.232*\"portion\" + 0.229*\"surface\".\n",
      "Words in 3: 0.766*\"device\" + -0.414*\"data\" + -0.322*\"one\" + -0.219*\"least\" + 0.097*\"information\" + 0.086*\"control\".\n",
      "Words in 4: -0.684*\"layer\" + -0.457*\"data\" + 0.279*\"one\" + 0.209*\"least\" + -0.135*\"substrate\" + 0.116*\"signal\".\n",
      "Words in 5: -0.396*\"one\" + 0.362*\"portion\" + -0.272*\"least\" + 0.264*\"unit\" + -0.226*\"device\" + 0.226*\"includes\".\n",
      "Words in 6: 0.449*\"portion\" + -0.361*\"signal\" + 0.288*\"device\" + -0.268*\"layer\" + 0.255*\"data\" + -0.231*\"unit\".\n",
      "Words in 7: 0.641*\"may\" + 0.335*\"system\" + -0.240*\"device\" + -0.230*\"data\" + -0.198*\"least\" + -0.192*\"image\".\n",
      "Words in 8: -0.588*\"image\" + 0.416*\"signal\" + -0.268*\"information\" + 0.233*\"circuit\" + 0.195*\"data\" + 0.189*\"power\".\n",
      "Words in 9: 0.593*\"light\" + 0.424*\"may\" + -0.359*\"information\" + -0.202*\"includes\" + -0.189*\"method\" + -0.155*\"portion\".\n"
     ]
    }
   ],
   "source": [
    "# perform SVD on the bag of words with the LsiModel to extract 10 topics\n",
    "lsi = LsiModel(bow, num_topics=10, id2word=dictionary)\n",
    "\n",
    "# find the 5 words with the srongest association to the derived topics\n",
    "for topic_num, words in lsi.print_topics(num_words=6):\n",
    "    print('Words in {}: {}.'.format(topic_num, words))"
   ]
  },
  {
   "cell_type": "markdown",
   "id": "3fe26305",
   "metadata": {},
   "source": [
    "##### ALL DATA"
   ]
  },
  {
   "cell_type": "code",
   "execution_count": 64,
   "id": "4efc5651",
   "metadata": {},
   "outputs": [
    {
     "name": "stdout",
     "output_type": "stream",
     "text": [
      "Words in 0: 0.382*\"signal\" + 0.269*\"image\" + 0.232*\"control\" + 0.190*\"light\" + 0.174*\"circuit\" + 0.154*\"power\" + 0.140*\"element\" + 0.134*\"output\" + 0.115*\"sensor\" + 0.115*\"apparatus\".\n",
      "Words in 1: 0.747*\"image\" + -0.485*\"signal\" + 0.184*\"light\" + -0.173*\"circuit\" + -0.123*\"power\" + -0.115*\"control\" + 0.104*\"object\" + -0.100*\"voltage\" + -0.089*\"output\" + 0.056*\"lens\".\n",
      "Words in 2: -0.424*\"light\" + 0.410*\"image\" + 0.350*\"signal\" + -0.230*\"substrate\" + -0.210*\"electrode\" + -0.207*\"element\" + -0.163*\"structure\" + -0.154*\"material\" + -0.134*\"disposed\" + -0.123*\"semiconductor\".\n",
      "Words in 3: -0.568*\"light\" + -0.460*\"signal\" + 0.217*\"network\" + -0.180*\"image\" + 0.137*\"communication\" + 0.117*\"vehicle\" + -0.115*\"optical\" + -0.099*\"emitting\" + 0.097*\"memory\" + 0.096*\"set\".\n",
      "Words in 4: 0.523*\"light\" + 0.282*\"network\" + -0.270*\"image\" + -0.242*\"electrode\" + -0.196*\"substrate\" + 0.163*\"communication\" + -0.154*\"signal\" + -0.153*\"circuit\" + -0.151*\"structure\" + -0.128*\"semiconductor\".\n",
      "Words in 5: 0.482*\"power\" + 0.378*\"control\" + -0.353*\"signal\" + 0.249*\"circuit\" + 0.206*\"voltage\" + -0.188*\"network\" + 0.169*\"vehicle\" + -0.150*\"substrate\" + -0.133*\"material\" + -0.126*\"structure\".\n",
      "Words in 6: 0.331*\"vehicle\" + -0.258*\"electrode\" + -0.236*\"circuit\" + -0.213*\"power\" + -0.201*\"network\" + -0.197*\"voltage\" + 0.189*\"assembly\" + 0.179*\"element\" + 0.175*\"signal\" + -0.171*\"substrate\".\n",
      "Words in 7: -0.640*\"element\" + 0.397*\"vehicle\" + 0.274*\"control\" + -0.239*\"network\" + -0.190*\"power\" + 0.174*\"electrode\" + -0.127*\"lens\" + 0.118*\"substrate\" + 0.111*\"light\" + 0.102*\"sensor\".\n",
      "Words in 8: 0.379*\"network\" + 0.307*\"communication\" + -0.266*\"value\" + -0.266*\"memory\" + -0.226*\"cell\" + 0.214*\"electrode\" + -0.195*\"element\" + 0.169*\"control\" + 0.164*\"vehicle\" + 0.135*\"wireless\".\n",
      "Words in 9: -0.563*\"element\" + -0.415*\"vehicle\" + 0.284*\"power\" + -0.233*\"electrode\" + 0.156*\"fluid\" + -0.143*\"control\" + 0.139*\"flow\" + 0.117*\"material\" + 0.109*\"gas\" + 0.106*\"assembly\".\n"
     ]
    }
   ],
   "source": [
    "final_abstract = df['Abstract'].apply(preprocess)\n",
    "corpus = final_abstract\n",
    "dictionary = corpora.Dictionary(corpus)\n",
    "\n",
    "# convert corpus into a bag of words\n",
    "bow = [dictionary.doc2bow(text) for text in corpus]\n",
    "\n",
    "# perform SVD on the bag of words with the LsiModel to extract 10 topics\n",
    "lsi = LsiModel(bow, num_topics=10, id2word=dictionary)\n",
    "\n",
    "# find the 5 words with the srongest association to the derived topics\n",
    "for topic_num, words in lsi.print_topics(num_words=10):\n",
    "    print('Words in {}: {}.'.format(topic_num, words))"
   ]
  },
  {
   "cell_type": "code",
   "execution_count": 59,
   "id": "e076ffdf",
   "metadata": {},
   "outputs": [
    {
     "name": "stdout",
     "output_type": "stream",
     "text": [
      "Words in 0: 0.416*\"layer\" + 0.271*\"portion\" + 0.238*\"surface\" + 0.211*\"plurality\" + 0.207*\"signal\" + 0.176*\"image\" + 0.172*\"light\" + 0.141*\"control\" + 0.138*\"substrate\" + 0.132*\"information\" + 0.124*\"region\" + 0.124*\"element\" + 0.122*\"electrode\" + 0.112*\"circuit\" + 0.105*\"structure\" + 0.093*\"material\" + 0.093*\"power\" + 0.092*\"disposed\" + 0.090*\"member\" + 0.090*\"direction\".\n",
      "Words in 1: -0.609*\"layer\" + 0.320*\"signal\" + 0.226*\"image\" + 0.219*\"information\" + 0.181*\"control\" + -0.156*\"surface\" + -0.129*\"substrate\" + -0.114*\"portion\" + -0.112*\"electrode\" + 0.103*\"plurality\" + 0.102*\"output\" + 0.102*\"power\" + 0.099*\"network\" + -0.097*\"semiconductor\" + 0.096*\"circuit\" + 0.095*\"communication\" + 0.089*\"input\" + 0.089*\"value\" + 0.083*\"vehicle\" + 0.081*\"time\".\n",
      "Words in 2: -0.666*\"portion\" + 0.482*\"layer\" + -0.252*\"surface\" + 0.224*\"signal\" + -0.195*\"member\" + -0.103*\"direction\" + 0.096*\"information\" + -0.082*\"assembly\" + -0.079*\"housing\" + -0.068*\"outer\" + 0.063*\"circuit\" + -0.061*\"element\" + -0.060*\"inner\" + -0.059*\"plate\" + 0.059*\"control\" + -0.058*\"wall\" + 0.055*\"network\" + -0.049*\"extending\" + 0.049*\"output\" + 0.047*\"electrode\".\n",
      "Words in 3: 0.725*\"image\" + -0.478*\"signal\" + -0.192*\"circuit\" + 0.161*\"information\" + -0.139*\"power\" + -0.114*\"control\" + -0.109*\"voltage\" + 0.104*\"object\" + -0.101*\"portion\" + -0.093*\"output\" + 0.073*\"light\" + 0.063*\"processing\" + 0.062*\"region\" + -0.057*\"connected\" + -0.049*\"frequency\" + -0.048*\"terminal\" + 0.047*\"target\" + 0.046*\"plurality\" + -0.046*\"input\" + 0.044*\"camera\".\n",
      "Words in 4: -0.528*\"light\" + 0.366*\"information\" + -0.329*\"signal\" + -0.319*\"image\" + 0.204*\"network\" + 0.160*\"portion\" + 0.138*\"communication\" + -0.136*\"surface\" + -0.123*\"optical\" + 0.112*\"layer\" + -0.099*\"element\" + -0.096*\"circuit\" + -0.089*\"emitting\" + -0.082*\"source\" + 0.080*\"vehicle\" + 0.079*\"associated\" + 0.077*\"request\" + 0.077*\"plurality\" + 0.074*\"memory\" + -0.073*\"lens\".\n",
      "Words in 5: 0.515*\"light\" + -0.410*\"image\" + -0.397*\"portion\" + -0.387*\"signal\" + 0.202*\"surface\" + 0.174*\"element\" + -0.166*\"layer\" + 0.138*\"information\" + 0.119*\"plurality\" + 0.106*\"source\" + 0.093*\"network\" + 0.091*\"emitting\" + 0.068*\"optical\" + 0.064*\"communication\" + -0.063*\"circuit\" + 0.061*\"vehicle\" + 0.057*\"control\" + -0.049*\"output\" + 0.045*\"beam\" + 0.041*\"module\".\n",
      "Words in 6: 0.501*\"light\" + 0.414*\"portion\" + -0.352*\"surface\" + 0.297*\"information\" + -0.196*\"power\" + 0.172*\"signal\" + 0.138*\"layer\" + -0.136*\"circuit\" + -0.120*\"image\" + -0.106*\"plurality\" + 0.105*\"network\" + -0.100*\"voltage\" + -0.089*\"member\" + 0.086*\"emitting\" + -0.085*\"control\" + -0.078*\"assembly\" + -0.077*\"region\" + -0.074*\"element\" + -0.074*\"substrate\" + -0.069*\"material\".\n",
      "Words in 7: 0.571*\"surface\" + 0.401*\"signal\" + -0.340*\"power\" + -0.234*\"control\" + 0.223*\"information\" + -0.202*\"circuit\" + -0.183*\"voltage\" + -0.175*\"portion\" + -0.139*\"light\" + -0.100*\"current\" + -0.094*\"supply\" + -0.080*\"memory\" + -0.079*\"source\" + -0.077*\"connected\" + -0.074*\"plurality\" + -0.072*\"vehicle\" + 0.070*\"network\" + -0.065*\"output\" + -0.063*\"layer\" + -0.061*\"line\".\n",
      "Words in 8: -0.731*\"plurality\" + 0.299*\"information\" + 0.286*\"control\" + 0.228*\"power\" + 0.206*\"vehicle\" + 0.191*\"surface\" + -0.124*\"memory\" + -0.103*\"region\" + 0.101*\"layer\" + -0.086*\"cell\" + 0.086*\"image\" + -0.074*\"signal\" + -0.066*\"line\" + -0.064*\"set\" + 0.063*\"terminal\" + -0.061*\"pixel\" + 0.058*\"circuit\" + 0.053*\"supply\" + -0.053*\"structure\" + 0.052*\"voltage\".\n",
      "Words in 9: 0.326*\"member\" + 0.295*\"vehicle\" + -0.289*\"region\" + -0.277*\"information\" + -0.261*\"surface\" + -0.239*\"power\" + -0.221*\"circuit\" + 0.176*\"layer\" + -0.163*\"voltage\" + 0.150*\"sensor\" + -0.149*\"substrate\" + -0.147*\"electrode\" + 0.146*\"assembly\" + 0.129*\"element\" + -0.129*\"terminal\" + 0.119*\"fluid\" + 0.114*\"control\" + -0.112*\"portion\" + -0.111*\"semiconductor\" + 0.102*\"signal\".\n"
     ]
    }
   ],
   "source": [
    "# find the 5 words with the srongest association to the derived topics\n",
    "for topic_num, words in lsi.print_topics(num_words=20):\n",
    "    print('Words in {}: {}.'.format(topic_num, words))"
   ]
  },
  {
   "cell_type": "code",
   "execution_count": null,
   "id": "ca724fc9",
   "metadata": {},
   "outputs": [],
   "source": [
    "# perform SVD on the bag of words with the LsiModel to extract 10 topics\n",
    "lsi = LsiModel(bow, num_topics=10, id2word=dictionary)\n",
    "\n",
    "# find the 5 words with the srongest association to the derived topics\n",
    "for topic_num, words in lsi.print_topics(num_words=6):\n",
    "    print('Words in {}: {}.'.format(topic_num, words))"
   ]
  },
  {
   "cell_type": "code",
   "execution_count": 65,
   "id": "afc072d8",
   "metadata": {},
   "outputs": [
    {
     "name": "stdout",
     "output_type": "stream",
     "text": [
      "[] it happened\n",
      "[] it happened\n",
      "[] it happened\n",
      "[] it happened\n",
      "[] it happened\n",
      "[] it happened\n",
      "[] it happened\n",
      "[] it happened\n",
      "[] it happened\n",
      "[] it happened\n",
      "[] it happened\n",
      "[] it happened\n",
      "[] it happened\n",
      "[] it happened\n",
      "[] it happened\n",
      "[] it happened\n",
      "[] it happened\n",
      "[] it happened\n",
      "[] it happened\n",
      "[] it happened\n",
      "[] it happened\n",
      "[] it happened\n",
      "[] it happened\n",
      "[] it happened\n",
      "[] it happened\n",
      "[] it happened\n",
      "[] it happened\n",
      "[] it happened\n"
     ]
    },
    {
     "data": {
      "text/plain": [
       "0    942310\n",
       "6    138971\n",
       "9    109837\n",
       "3     77165\n",
       "1     66785\n",
       "4     55985\n",
       "5     35397\n",
       "8     31196\n",
       "7     28535\n",
       "2       181\n",
       "Name: Topic, dtype: int64"
      ]
     },
     "execution_count": 65,
     "metadata": {},
     "output_type": "execute_result"
    }
   ],
   "source": [
    "# find the scores given between the review and each topic\n",
    "corpus_lsi = lsi[bow]\n",
    "score1 = []\n",
    "score2 = []\n",
    "score3 = []\n",
    "score4 = []\n",
    "score5 = []\n",
    "score6 = []\n",
    "score7 = []\n",
    "score8 = []\n",
    "score9 = []\n",
    "score10 = []\n",
    "for doc in corpus_lsi:\n",
    "    try:\n",
    "        score1.append(round(doc[0][1],2))\n",
    "        score2.append(round(doc[1][1],2))\n",
    "        score3.append(round(doc[2][1],2))\n",
    "        score4.append(round(doc[3][1],2))\n",
    "        score5.append(round(doc[4][1],2))\n",
    "        score6.append(round(doc[5][1],2))\n",
    "        score7.append(round(doc[6][1],2))\n",
    "        score8.append(round(doc[7][1],2))\n",
    "        score9.append(round(doc[8][1],2))\n",
    "        score10.append(round(doc[9][1],2))\n",
    "    except:\n",
    "        if len(doc) == 0:\n",
    "            score1.append(-10)\n",
    "            score2.append(-10)\n",
    "            score3.append(-10)\n",
    "            score4.append(-10)\n",
    "            score5.append(-10)\n",
    "            score6.append(-10)\n",
    "            score7.append(-10)\n",
    "            score8.append(-10)\n",
    "            score9.append(-10)\n",
    "            score10.append(-10)\n",
    "            \n",
    "        print(doc,'it happened')\n",
    "\n",
    "# create data frame that shows scores assigned for both topics for each review\n",
    "df_topic = pd.DataFrame()\n",
    "df_topic['Abstract'] = df['Abstract']\n",
    "df_topic['Year'] = df['Year']\n",
    "df_topic['Topic 0 score'] = score1\n",
    "df_topic['Topic 1 score'] = score2\n",
    "df_topic['Topic 2 score'] = score3\n",
    "df_topic['Topic 3 score'] = score4\n",
    "df_topic['Topic 4 score'] = score5\n",
    "df_topic['Topic 5 score'] = score6\n",
    "df_topic['Topic 6 score'] = score7\n",
    "df_topic['Topic 7 score'] = score8\n",
    "df_topic['Topic 8 score'] = score9\n",
    "df_topic['Topic 9 score'] = score10\n",
    "\n",
    "df_topic['Topic']= df_topic[['Topic 0 score', 'Topic 1 score','Topic 2 score','Topic 3 score',\n",
    "                             'Topic 4 score','Topic 5 score','Topic 6 score','Topic 7 score',\n",
    "                             'Topic 8 score','Topic 9 score']].apply(lambda x: x.argmax(), axis=1)\n",
    "df_topic['Topic'].value_counts()"
   ]
  },
  {
   "cell_type": "code",
   "execution_count": 66,
   "id": "1401e3fd",
   "metadata": {},
   "outputs": [
    {
     "name": "stderr",
     "output_type": "stream",
     "text": [
      "/Users/shreya/opt/anaconda3/lib/python3.8/site-packages/IPython/core/pylabtools.py:132: UserWarning: Creating legend with loc=\"best\" can be slow with large amounts of data.\n",
      "  fig.canvas.print_figure(bytes_io, **kw)\n"
     ]
    },
    {
     "data": {
      "image/png": "[encoded data removed]",
      "text/plain": [
       "<Figure size 432x288 with 1 Axes>"
      ]
     },
     "metadata": {
      "needs_background": "light"
     },
     "output_type": "display_data"
    }
   ],
   "source": [
    "from sklearn.preprocessing import StandardScaler\n",
    "from sklearn.pipeline import Pipeline\n",
    "from sklearn.decomposition import PCA\n",
    "from matplotlib import pyplot as plt\n",
    "pca = PCA()\n",
    "pipe = Pipeline([('scaler', StandardScaler()), ('pca', pca)])\n",
    "Xt = pipe.fit_transform(df_topic.drop(['Abstract','Year','Topic'],axis=1))\n",
    "plot = plt.scatter(Xt[:,0], Xt[:,1], c=df_topic['Topic'])\n",
    "plt.legend(handles=plot.legend_elements()[0], labels=list(df_topic['Topic']))\n",
    "plt.show()"
   ]
  },
  {
   "cell_type": "code",
   "execution_count": null,
   "id": "f859df31",
   "metadata": {},
   "outputs": [],
   "source": [
    "import seaborn as sns\n",
    "import matplotlib.pyplot as plt\n",
    "plt.figure(figsize =(12, 10))\n",
    "sns.catplot(x = \"Topic\", data = df_topic, kind = \"count\",hue=\"Year\")\n",
    "plt.title('Count of Topics')\n",
    "plt.show()"
   ]
  },
  {
   "cell_type": "code",
   "execution_count": 70,
   "id": "67739ab0",
   "metadata": {},
   "outputs": [
    {
     "data": {
      "text/plain": [
       "{0: 942310,\n",
       " 6: 138971,\n",
       " 1: 66785,\n",
       " 3: 77165,\n",
       " 9: 109837,\n",
       " 8: 31196,\n",
       " 5: 35397,\n",
       " 4: 55985,\n",
       " 7: 28535,\n",
       " 2: 181}"
      ]
     },
     "execution_count": 70,
     "metadata": {},
     "output_type": "execute_result"
    }
   ],
   "source": [
    "labels ={}\n",
    "for i in df_topic['Topic']:\n",
    "    labels[i] = labels.get(i,0) + 1\n",
    "labels"
   ]
  },
  {
   "cell_type": "code",
   "execution_count": null,
   "id": "cd970cf5",
   "metadata": {},
   "outputs": [],
   "source": [
    "from sklearn.manifold import TSNE\n",
    "\n",
    "X = df_topic.iloc[:,2:12].to_numpy().tolist()\n",
    "X_tsne = TSNE(n_components = 2, learning_rate='auto', init='random').fit_transform(np.array(X))\n",
    "\n",
    "plt.figure(figsize=(12, 10))\n",
    "for topics in np.unique(df_topic['Topic']):\n",
    "    x = X_tsne[(df_topic['Topic'] == topics),0]\n",
    "    y = X_tsne[(df_topic['Topic'] == topics),1]\n",
    "    plt.scatter(x, y, label = topics)\n",
    "plt.xlabel('First t-SNE dimension', fontsize = 12)\n",
    "plt.ylabel('Second t-SNE dimension', fontsize = 12)\n",
    "plt.title('Projection of data onto the first two t-SNE dimensions with points colored by topics',\n",
    "          fontsize = 14)\n",
    "plt.legend()\n",
    "plt.show()"
   ]
  },
  {
   "cell_type": "code",
   "execution_count": 18,
   "id": "924901ce",
   "metadata": {},
   "outputs": [
    {
     "data": {
      "text/html": [
       "<div>\n",
       "<style scoped>\n",
       "    .dataframe tbody tr th:only-of-type {\n",
       "        vertical-align: middle;\n",
       "    }\n",
       "\n",
       "    .dataframe tbody tr th {\n",
       "        vertical-align: top;\n",
       "    }\n",
       "\n",
       "    .dataframe thead th {\n",
       "        text-align: right;\n",
       "    }\n",
       "</style>\n",
       "<table border=\"1\" class=\"dataframe\">\n",
       "  <thead>\n",
       "    <tr style=\"text-align: right;\">\n",
       "      <th></th>\n",
       "      <th>Abstract</th>\n",
       "      <th>Year</th>\n",
       "      <th>Topic 0 score</th>\n",
       "      <th>Topic 1 score</th>\n",
       "      <th>Topic 2 score</th>\n",
       "      <th>Topic 3 score</th>\n",
       "      <th>Topic 4 score</th>\n",
       "      <th>Topic 5 score</th>\n",
       "      <th>Topic 6 score</th>\n",
       "      <th>Topic 7 score</th>\n",
       "      <th>Topic 8 score</th>\n",
       "      <th>Topic 9 score</th>\n",
       "      <th>Topic</th>\n",
       "    </tr>\n",
       "  </thead>\n",
       "  <tbody>\n",
       "    <tr>\n",
       "      <th>638558</th>\n",
       "      <td>A transfer and coating apparatus transfers a c...</td>\n",
       "      <td>2019</td>\n",
       "      <td>0.90</td>\n",
       "      <td>-0.91</td>\n",
       "      <td>0.01</td>\n",
       "      <td>0.31</td>\n",
       "      <td>-0.13</td>\n",
       "      <td>0.46</td>\n",
       "      <td>-0.11</td>\n",
       "      <td>-0.11</td>\n",
       "      <td>0.33</td>\n",
       "      <td>0.10</td>\n",
       "      <td>0</td>\n",
       "    </tr>\n",
       "    <tr>\n",
       "      <th>1343564</th>\n",
       "      <td>An example apparatus includes an input buffer ...</td>\n",
       "      <td>2021</td>\n",
       "      <td>1.72</td>\n",
       "      <td>-0.20</td>\n",
       "      <td>1.18</td>\n",
       "      <td>-0.54</td>\n",
       "      <td>0.36</td>\n",
       "      <td>1.18</td>\n",
       "      <td>0.14</td>\n",
       "      <td>0.37</td>\n",
       "      <td>-0.95</td>\n",
       "      <td>0.68</td>\n",
       "      <td>0</td>\n",
       "    </tr>\n",
       "    <tr>\n",
       "      <th>19916</th>\n",
       "      <td>Provided is a container including a container ...</td>\n",
       "      <td>2018</td>\n",
       "      <td>1.15</td>\n",
       "      <td>-1.29</td>\n",
       "      <td>0.02</td>\n",
       "      <td>0.27</td>\n",
       "      <td>-0.45</td>\n",
       "      <td>0.14</td>\n",
       "      <td>0.49</td>\n",
       "      <td>0.36</td>\n",
       "      <td>0.52</td>\n",
       "      <td>-0.53</td>\n",
       "      <td>0</td>\n",
       "    </tr>\n",
       "    <tr>\n",
       "      <th>10902</th>\n",
       "      <td>In accordance with one or more embodiments her...</td>\n",
       "      <td>2018</td>\n",
       "      <td>1.78</td>\n",
       "      <td>0.72</td>\n",
       "      <td>0.56</td>\n",
       "      <td>-0.65</td>\n",
       "      <td>-0.91</td>\n",
       "      <td>0.00</td>\n",
       "      <td>0.99</td>\n",
       "      <td>-0.21</td>\n",
       "      <td>0.18</td>\n",
       "      <td>-0.16</td>\n",
       "      <td>0</td>\n",
       "    </tr>\n",
       "    <tr>\n",
       "      <th>957828</th>\n",
       "      <td>A drive voltage supply circuit, a display pane...</td>\n",
       "      <td>2020</td>\n",
       "      <td>1.05</td>\n",
       "      <td>-0.54</td>\n",
       "      <td>0.21</td>\n",
       "      <td>-0.37</td>\n",
       "      <td>0.81</td>\n",
       "      <td>-0.68</td>\n",
       "      <td>0.46</td>\n",
       "      <td>1.00</td>\n",
       "      <td>-0.49</td>\n",
       "      <td>-0.19</td>\n",
       "      <td>0</td>\n",
       "    </tr>\n",
       "  </tbody>\n",
       "</table>\n",
       "</div>"
      ],
      "text/plain": [
       "                                                  Abstract  Year  \\\n",
       "638558   A transfer and coating apparatus transfers a c...  2019   \n",
       "1343564  An example apparatus includes an input buffer ...  2021   \n",
       "19916    Provided is a container including a container ...  2018   \n",
       "10902    In accordance with one or more embodiments her...  2018   \n",
       "957828   A drive voltage supply circuit, a display pane...  2020   \n",
       "\n",
       "         Topic 0 score  Topic 1 score  Topic 2 score  Topic 3 score  \\\n",
       "638558            0.90          -0.91           0.01           0.31   \n",
       "1343564           1.72          -0.20           1.18          -0.54   \n",
       "19916             1.15          -1.29           0.02           0.27   \n",
       "10902             1.78           0.72           0.56          -0.65   \n",
       "957828            1.05          -0.54           0.21          -0.37   \n",
       "\n",
       "         Topic 4 score  Topic 5 score  Topic 6 score  Topic 7 score  \\\n",
       "638558           -0.13           0.46          -0.11          -0.11   \n",
       "1343564           0.36           1.18           0.14           0.37   \n",
       "19916            -0.45           0.14           0.49           0.36   \n",
       "10902            -0.91           0.00           0.99          -0.21   \n",
       "957828            0.81          -0.68           0.46           1.00   \n",
       "\n",
       "         Topic 8 score  Topic 9 score  Topic  \n",
       "638558            0.33           0.10      0  \n",
       "1343564          -0.95           0.68      0  \n",
       "19916             0.52          -0.53      0  \n",
       "10902             0.18          -0.16      0  \n",
       "957828           -0.49          -0.19      0  "
      ]
     },
     "execution_count": 18,
     "metadata": {},
     "output_type": "execute_result"
    }
   ],
   "source": [
    "df_topic.head()"
   ]
  },
  {
   "cell_type": "code",
   "execution_count": 67,
   "id": "929a0147",
   "metadata": {},
   "outputs": [],
   "source": [
    "df_topic.to_csv('topic-model-lsa-group10-newstops-lemmatized.csv',index=False)"
   ]
  },
  {
   "cell_type": "code",
   "execution_count": null,
   "id": "2d1c60fa",
   "metadata": {},
   "outputs": [],
   "source": []
  }
 ],
 "metadata": {
  "kernelspec": {
   "display_name": "Python 3",
   "language": "python",
   "name": "python3"
  },
  "language_info": {
   "codemirror_mode": {
    "name": "ipython",
    "version": 3
   },
   "file_extension": ".py",
   "mimetype": "text/x-python",
   "name": "python",
   "nbconvert_exporter": "python",
   "pygments_lexer": "ipython3",
   "version": "3.8.8"
  }
 },
 "nbformat": 4,
 "nbformat_minor": 5
}
