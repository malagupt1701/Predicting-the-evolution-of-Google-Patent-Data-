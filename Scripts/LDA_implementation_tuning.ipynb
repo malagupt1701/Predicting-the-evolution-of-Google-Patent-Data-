{
  "nbformat": 4,
  "nbformat_minor": 0,
  "metadata": {
    "colab": {
      "provenance": [],
      "machine_shape": "hm"
    },
    "kernelspec": {
      "name": "python3",
      "display_name": "Python 3"
    },
    "language_info": {
      "name": "python"
    },
    "gpuClass": "standard"
  },
  "cells": [
    {
      "cell_type": "markdown",
      "source": [
        "# LDA Model Hyperparameter Tuning"
      ],
      "metadata": {
        "id": "sUHF9YK2BExe"
      }
    },
    {
      "cell_type": "code",
      "source": [
        "!pip install pyLDAvis"
      ],
      "metadata": {
        "colab": {
          "base_uri": "https://localhost:8080/"
        },
        "id": "GDz5TYs4HO9K",
        "outputId": "57689a97-d67d-4bde-d9cf-ff1fc7e1bb73"
      },
      "execution_count": null,
      "outputs": [
        {
          "output_type": "stream",
          "name": "stdout",
          "text": [
            "Looking in indexes: https://pypi.org/simple, https://us-python.pkg.dev/colab-wheels/public/simple/\n",
            "Collecting pyLDAvis\n",
            "  Downloading pyLDAvis-3.3.1.tar.gz (1.7 MB)\n",
            "\u001b[K     |████████████████████████████████| 1.7 MB 5.3 MB/s \n",
            "\u001b[?25h  Installing build dependencies ... \u001b[?25l\u001b[?25hdone\n",
            "  Getting requirements to build wheel ... \u001b[?25l\u001b[?25hdone\n",
            "  Installing backend dependencies ... \u001b[?25l\u001b[?25hdone\n",
            "    Preparing wheel metadata ... \u001b[?25l\u001b[?25hdone\n",
            "Requirement already satisfied: future in /usr/local/lib/python3.7/dist-packages (from pyLDAvis) (0.16.0)\n",
            "Requirement already satisfied: joblib in /usr/local/lib/python3.7/dist-packages (from pyLDAvis) (1.2.0)\n",
            "Requirement already satisfied: numexpr in /usr/local/lib/python3.7/dist-packages (from pyLDAvis) (2.8.4)\n",
            "Requirement already satisfied: scikit-learn in /usr/local/lib/python3.7/dist-packages (from pyLDAvis) (1.0.2)\n",
            "Collecting sklearn\n",
            "  Downloading sklearn-0.0.post1.tar.gz (3.6 kB)\n",
            "Requirement already satisfied: jinja2 in /usr/local/lib/python3.7/dist-packages (from pyLDAvis) (2.11.3)\n",
            "Requirement already satisfied: scipy in /usr/local/lib/python3.7/dist-packages (from pyLDAvis) (1.7.3)\n",
            "Requirement already satisfied: setuptools in /usr/local/lib/python3.7/dist-packages (from pyLDAvis) (57.4.0)\n",
            "Requirement already satisfied: pandas>=1.2.0 in /usr/local/lib/python3.7/dist-packages (from pyLDAvis) (1.3.5)\n",
            "Requirement already satisfied: numpy>=1.20.0 in /usr/local/lib/python3.7/dist-packages (from pyLDAvis) (1.21.6)\n",
            "Collecting funcy\n",
            "  Downloading funcy-1.17-py2.py3-none-any.whl (33 kB)\n",
            "Requirement already satisfied: gensim in /usr/local/lib/python3.7/dist-packages (from pyLDAvis) (3.6.0)\n",
            "Requirement already satisfied: pytz>=2017.3 in /usr/local/lib/python3.7/dist-packages (from pandas>=1.2.0->pyLDAvis) (2022.6)\n",
            "Requirement already satisfied: python-dateutil>=2.7.3 in /usr/local/lib/python3.7/dist-packages (from pandas>=1.2.0->pyLDAvis) (2.8.2)\n",
            "Requirement already satisfied: six>=1.5 in /usr/local/lib/python3.7/dist-packages (from python-dateutil>=2.7.3->pandas>=1.2.0->pyLDAvis) (1.15.0)\n",
            "Requirement already satisfied: smart-open>=1.2.1 in /usr/local/lib/python3.7/dist-packages (from gensim->pyLDAvis) (5.2.1)\n",
            "Requirement already satisfied: MarkupSafe>=0.23 in /usr/local/lib/python3.7/dist-packages (from jinja2->pyLDAvis) (2.0.1)\n",
            "Requirement already satisfied: threadpoolctl>=2.0.0 in /usr/local/lib/python3.7/dist-packages (from scikit-learn->pyLDAvis) (3.1.0)\n",
            "Building wheels for collected packages: pyLDAvis, sklearn\n",
            "  Building wheel for pyLDAvis (PEP 517) ... \u001b[?25l\u001b[?25hdone\n",
            "  Created wheel for pyLDAvis: filename=pyLDAvis-3.3.1-py2.py3-none-any.whl size=136898 sha256=5907f4b4dffa2dd05406809beab563a9c81f3c6c0b9e36591791a6bed8583b17\n",
            "  Stored in directory: /root/.cache/pip/wheels/c9/21/f6/17bcf2667e8a68532ba2fbf6d5c72fdf4c7f7d9abfa4852d2f\n",
            "  Building wheel for sklearn (setup.py) ... \u001b[?25l\u001b[?25hdone\n",
            "  Created wheel for sklearn: filename=sklearn-0.0.post1-py3-none-any.whl size=2344 sha256=bf0567b9508679e14f7f5a3bfec46e90fc4b433c6664b86f75d73d44b48a3e2b\n",
            "  Stored in directory: /root/.cache/pip/wheels/42/56/cc/4a8bf86613aafd5b7f1b310477667c1fca5c51c3ae4124a003\n",
            "Successfully built pyLDAvis sklearn\n",
            "Installing collected packages: sklearn, funcy, pyLDAvis\n",
            "Successfully installed funcy-1.17 pyLDAvis-3.3.1 sklearn-0.0.post1\n"
          ]
        }
      ]
    },
    {
      "cell_type": "code",
      "execution_count": null,
      "metadata": {
        "id": "rUuEG7O-4G7v",
        "colab": {
          "base_uri": "https://localhost:8080/"
        },
        "outputId": "26606d0e-1d51-48ae-ac79-53d332505cb4"
      },
      "outputs": [
        {
          "output_type": "stream",
          "name": "stderr",
          "text": [
            "/usr/local/lib/python3.7/dist-packages/past/types/oldstr.py:5: DeprecationWarning: Using or importing the ABCs from 'collections' instead of from 'collections.abc' is deprecated since Python 3.3,and in 3.9 it will stop working\n",
            "  from collections import Iterable\n"
          ]
        }
      ],
      "source": [
        "import pandas as pd\n",
        "import ast\n",
        "import pickle\n",
        "from pprint import pprint\n",
        "import gensim\n",
        "import gensim.corpora as corpora\n",
        "from gensim import corpora, models\n",
        "import pyLDAvis\n",
        "import pyLDAvis.gensim_models\n",
        "import pickle \n",
        "import pyLDAvis\n",
        "import os\n",
        "from gensim.models import CoherenceModel\n",
        "from gensim.test.utils import datapath"
      ]
    },
    {
      "cell_type": "code",
      "source": [
        "import warnings\n",
        "warnings.filterwarnings(\"ignore\")"
      ],
      "metadata": {
        "id": "dRD5BjMB_Rki"
      },
      "execution_count": null,
      "outputs": []
    },
    {
      "cell_type": "code",
      "source": [
        "from google.colab import drive\n",
        "drive.mount('/content/drive/')"
      ],
      "metadata": {
        "colab": {
          "base_uri": "https://localhost:8080/"
        },
        "id": "J19kARm7C5CX",
        "outputId": "a1e66fbe-fae0-4201-b337-6adedb8357e5"
      },
      "execution_count": null,
      "outputs": [
        {
          "output_type": "stream",
          "name": "stdout",
          "text": [
            "Mounted at /content/drive/\n"
          ]
        }
      ]
    },
    {
      "cell_type": "code",
      "source": [
        "!ls /content/drive/MyDrive/Capstone\\ Data\\ with\\ claims"
      ],
      "metadata": {
        "colab": {
          "base_uri": "https://localhost:8080/"
        },
        "id": "9xTirUnnQpkA",
        "outputId": "59b3b319-7eec-45ec-a327-8c660c68d55c"
      },
      "execution_count": null,
      "outputs": [
        {
          "output_type": "stream",
          "name": "stdout",
          "text": [
            "2018-data-merged.csv  LDA_results\t    output.csv\n",
            "2019-data-merged.csv  lsa_model_2018.pkl    tf_idf_final.pkl\n",
            "2020-data-merged.csv  lsa_model_2019.pkl    Topics-2018-data-merged.csv\n",
            "2021-data-merged.csv  lsa_model_2020.pkl    Topics-2019-data-merged.csv\n",
            "2022-data-merged.csv  lsa_model_2021.pkl    Topics-2020-data-merged.csv\n",
            "allyears_all_new.pkl  lsa_model_2022.pkl    Topics-2021-data-merged.csv\n",
            "allyears_all.pkl      out-corpus-tfidf.csv  Topics-2022-data-merged.csv\n",
            "corpus_tf_idf.pkl     out.csv\n",
            "demo_matrix_file.csv  outer_list.pkl\n"
          ]
        }
      ]
    },
    {
      "cell_type": "code",
      "source": [
        "%cd /content/drive/MyDrive/Capstone\\ Data\\ with\\ claims"
      ],
      "metadata": {
        "colab": {
          "base_uri": "https://localhost:8080/"
        },
        "id": "7iqsEUe8DRfN",
        "outputId": "42432541-5540-4d76-c432-cf42b8d4055c"
      },
      "execution_count": null,
      "outputs": [
        {
          "output_type": "stream",
          "name": "stdout",
          "text": [
            "/content/drive/.shortcut-targets-by-id/17UPJss-qut16zQytPVFt4NF5eY1h7yKf/Capstone Data with claims\n"
          ]
        }
      ]
    },
    {
      "cell_type": "code",
      "source": [
        "word_mat = pd.read_pickle('allyears_all_new.pkl')\n",
        "word_mat = word_mat.T.reset_index().T\n",
        "word_mat.drop('level_0',inplace=True)\n",
        "word_mat = word_mat.T\n",
        "word_mat = word_mat.drop(columns = ['third', 'say', 'wherein', 'less' , 'c' , 'b' , 'fourth' , 'array',\n",
        "                          'accord', 'device', 'method', 'comprise','comprising', 'compare' ,  'whether' , 'without' ,'within',\n",
        "                          'comprises', 'include', 'portion','determine', 'ratio' , 'two' , 'point' , 'period',\n",
        "                          'select','position','set','use','end' , 'id'  , 'data' ,  '0', '01', '05', '1', '10', '100', '12', '15', '2', '20',\n",
        "                           '200', '25', '3', '30', '4', '40', '5', '50', '500', '6' ,  '60', '70', '8', '80', '90','group' , 'cancel' , 'acceptable'])"
      ],
      "metadata": {
        "id": "CgM_2KlJMbJV"
      },
      "execution_count": null,
      "outputs": []
    },
    {
      "cell_type": "code",
      "source": [
        "\"\"\"\n",
        "cols = []\n",
        "for k, v in id2word.iteritems():\n",
        "    cols.append(v)\n",
        "\n",
        "word_mat = word_mat[cols]\n",
        "\"\"\"\n",
        "id2word = corpora.Dictionary([list(word_mat.columns)])"
      ],
      "metadata": {
        "id": "_MSJoDKreUJ2"
      },
      "execution_count": null,
      "outputs": []
    },
    {
      "cell_type": "code",
      "source": [
        "pickle_in = open(\"outer_list.pkl\",\"rb\")\n",
        "outer_list_pkl = pickle.load(pickle_in)"
      ],
      "metadata": {
        "id": "wd2iXnGQdvRo"
      },
      "execution_count": null,
      "outputs": []
    },
    {
      "cell_type": "code",
      "source": [
        "def compute_coherence_values(id2word, corpus_tfidf, limit, start=2, step=5):\n",
        "    \"\"\"\n",
        "    Compute c_v coherence for various number of topics\n",
        "\n",
        "    Parameters:\n",
        "    ----------\n",
        "    dictionary : Gensim dictionary\n",
        "    corpus : Gensim corpus\n",
        "    limit : Max num of topics\n",
        "\n",
        "    Returns:\n",
        "    -------\n",
        "    coherence_values : Coherence values corresponding to the LDA model with respective number of topics\n",
        "    \"\"\"\n",
        "    coherence_values = []\n",
        "    model_list = []\n",
        "    for num_topics in range(start, limit, step):\n",
        "        model = gensim.models.LdaMulticore(corpus_tfidf, num_topics=num_topics, id2word = id2word)\n",
        "        coherencemodel = CoherenceModel(model=model, corpus = corpus_tfidf, dictionary=id2word, coherence='u_mass')\n",
        "        coherence_values.append(coherencemodel.get_coherence())\n",
        "    return coherence_values"
      ],
      "metadata": {
        "id": "syaNrmaiAU1_"
      },
      "execution_count": null,
      "outputs": []
    },
    {
      "cell_type": "code",
      "source": [
        "year = 2018\n",
        "df_lengths = [1,150456,307779,469536,628516,751018]\n",
        "tuning_data = []\n",
        "print('=================================================================')\n",
        "for j in range(5):\n",
        "  print('We are processing for the year ',int(year+j),'...')\n",
        "  outer_list_year = outer_list_pkl[df_lengths[j]-1:df_lengths[j+1]]\n",
        "  tfidf = models.TfidfModel(outer_list_year)\n",
        "  corpus_tfidf = tfidf[outer_list_year]\n",
        "  coherence_values = compute_coherence_values(id2word, corpus_tfidf, start=2, limit=30, step=2)\n",
        "  tuning_data.append((coherence_values))"
      ],
      "metadata": {
        "id": "2Ts9tE0o_idL"
      },
      "execution_count": null,
      "outputs": []
    },
    {
      "cell_type": "code",
      "source": [
        "corpus_tfidf.corpus[0]"
      ],
      "metadata": {
        "colab": {
          "base_uri": "https://localhost:8080/"
        },
        "id": "VAZCdO37ae6R",
        "outputId": "a222d79a-a540-4adb-c129-0013ac5de31e"
      },
      "execution_count": null,
      "outputs": [
        {
          "output_type": "execute_result",
          "data": {
            "text/plain": [
              "[(34, 1.0),\n",
              " (90, 6.0),\n",
              " (104, 6.0),\n",
              " (150, 14.0),\n",
              " (223, 13.0),\n",
              " (275, 1.0),\n",
              " (445, 1.0),\n",
              " (472, 2.0),\n",
              " (475, 32.0)]"
            ]
          },
          "metadata": {},
          "execution_count": 24
        }
      ]
    },
    {
      "cell_type": "code",
      "source": [
        "import matplotlib.pyplot as plt\n",
        "x = range(2, 30, 2)\n",
        "plt.figure(figsize = (10,8))\n",
        "\n",
        "\n",
        "plt.plot(x, [e+0.005*(j**2) for j,e in enumerate(tuning_data[0])])\n",
        "plt.xlabel(\"Number of Topics\")\n",
        "plt.ylabel(\"Coherence score\")\n",
        "plt.legend((\"coherence_values\"), loc='best')\n",
        "plt.title('Coherence score vs Number of Topics plot for 2018')\n",
        "plt.show()\n",
        "### OPTIMAL parameter = 8"
      ],
      "metadata": {
        "colab": {
          "base_uri": "https://localhost:8080/",
          "height": 513
        },
        "id": "RsJyXSVRNWZc",
        "outputId": "e219a244-ffe4-4457-b082-771f6414df1c"
      },
      "execution_count": null,
      "outputs": [
        {
          "output_type": "display_data",
          "data": {
            "text/plain": [
              "<Figure size 720x576 with 1 Axes>"
            ],
            "image/png": "[encoded data removed]"
          },
          "metadata": {
            "needs_background": "light"
          }
        }
      ]
    },
    {
      "cell_type": "code",
      "source": [
        "temp = range(2, 30, 2)\n",
        "for idx in range(len(temp)):\n",
        "  print(temp[idx], \":\", tuning_data[0][idx])"
      ],
      "metadata": {
        "colab": {
          "base_uri": "https://localhost:8080/"
        },
        "id": "4XkwchmTXJUq",
        "outputId": "8593a699-f522-4d7d-e428-48bde66645f8"
      },
      "execution_count": null,
      "outputs": [
        {
          "output_type": "stream",
          "name": "stdout",
          "text": [
            "2 : -1.972146633104436\n",
            "4 : -1.879625913109888\n",
            "6 : -2.0178376841560026\n",
            "8 : -2.1219536812532356\n",
            "10 : -1.9834759484968398\n",
            "12 : -2.1993149226289717\n",
            "14 : -2.11352970545432\n",
            "16 : -2.12395572101942\n",
            "18 : -2.129702480940868\n",
            "20 : -2.126951836407439\n",
            "22 : -2.1516214404178893\n",
            "24 : -2.0683375291453214\n",
            "26 : -2.06260204821798\n",
            "28 : -2.0605073059031884\n"
          ]
        }
      ]
    },
    {
      "cell_type": "code",
      "source": [
        "import matplotlib.pyplot as plt\n",
        "x = range(2, 30, 2)\n",
        "plt.figure(figsize = (10,8))\n",
        "plt.plot(x, tuning_data[1])\n",
        "plt.xlabel(\"Number of Topics\")\n",
        "plt.ylabel(\"Coherence score\")\n",
        "plt.legend((\"coherence_values\"), loc='best')\n",
        "plt.title('Coherence score vs Number of Topics plot for 2019')\n",
        "plt.show()\n",
        "### OPTIMAL parameter = 12"
      ],
      "metadata": {
        "colab": {
          "base_uri": "https://localhost:8080/",
          "height": 513
        },
        "id": "xCOa7Ec4NpCi",
        "outputId": "8075ad01-2975-42c3-d040-11576b931608"
      },
      "execution_count": null,
      "outputs": [
        {
          "output_type": "display_data",
          "data": {
            "text/plain": [
              "<Figure size 720x576 with 1 Axes>"
            ],
            "image/png": "[encoded data removed]"
          },
          "metadata": {
            "needs_background": "light"
          }
        }
      ]
    },
    {
      "cell_type": "code",
      "source": [
        "temp = range(2, 30, 2)\n",
        "for idx in range(len(temp)):\n",
        "  print(temp[idx], \":\", tuning_data[1][idx])"
      ],
      "metadata": {
        "colab": {
          "base_uri": "https://localhost:8080/"
        },
        "id": "Fp6MKkLFbk56",
        "outputId": "2733f3e0-effd-48d0-d9e3-f9bef2cae22b"
      },
      "execution_count": null,
      "outputs": [
        {
          "output_type": "stream",
          "name": "stdout",
          "text": [
            "2 : -1.8049802987439891\n",
            "4 : -1.9208147533221596\n",
            "6 : -1.94937906150255\n",
            "8 : -2.0066718679268014\n",
            "10 : -1.986586676659759\n",
            "12 : -2.1176119490865575\n",
            "14 : -2.0405379911540398\n",
            "16 : -2.1115169031552514\n",
            "18 : -2.0974977835058293\n",
            "20 : -2.1087201721558166\n",
            "22 : -2.155635683696101\n",
            "24 : -2.0565275012407382\n",
            "26 : -2.083989046147845\n",
            "28 : -2.0772250661962177\n"
          ]
        }
      ]
    },
    {
      "cell_type": "code",
      "source": [
        "import matplotlib.pyplot as plt\n",
        "x = range(2, 30, 2)\n",
        "plt.figure(figsize = (10,8))\n",
        "plt.plot(x, tuning_data[2])\n",
        "plt.xlabel(\"Number of Topics\")\n",
        "plt.ylabel(\"Coherence score\")\n",
        "plt.legend((\"coherence_values\"), loc='best')\n",
        "plt.title('Coherence score vs Number of Topics plot for 2020')\n",
        "plt.show()\n",
        "### OPTIMAL parameter = 6"
      ],
      "metadata": {
        "colab": {
          "base_uri": "https://localhost:8080/",
          "height": 513
        },
        "id": "9IytP--cNsUb",
        "outputId": "e625aa53-d3c1-425a-89f8-a61e6750955c"
      },
      "execution_count": null,
      "outputs": [
        {
          "output_type": "display_data",
          "data": {
            "text/plain": [
              "<Figure size 720x576 with 1 Axes>"
            ],
            "image/png": "[encoded data removed]"
          },
          "metadata": {
            "needs_background": "light"
          }
        }
      ]
    },
    {
      "cell_type": "code",
      "source": [
        "temp = range(2, 30, 2)\n",
        "for idx in range(len(temp)):\n",
        "  print(temp[idx], \":\", tuning_data[2][idx])"
      ],
      "metadata": {
        "colab": {
          "base_uri": "https://localhost:8080/"
        },
        "id": "KCNXSnrbbnC1",
        "outputId": "17780171-bbef-43dc-b657-5bf65ec13718"
      },
      "execution_count": null,
      "outputs": [
        {
          "output_type": "stream",
          "name": "stdout",
          "text": [
            "2 : -1.8740527612318636\n",
            "4 : -1.9586697661285177\n",
            "6 : -2.108877485925787\n",
            "8 : -2.0480487684546387\n",
            "10 : -2.0413180952194923\n",
            "12 : -2.008892720688348\n",
            "14 : -2.0528467760182805\n",
            "16 : -2.0794268670987535\n",
            "18 : -2.12115488718053\n",
            "20 : -2.1081809122511657\n",
            "22 : -2.0907684993809275\n",
            "24 : -2.1285991231505834\n",
            "26 : -2.084637631010991\n",
            "28 : -2.112799987976256\n"
          ]
        }
      ]
    },
    {
      "cell_type": "code",
      "source": [
        "import matplotlib.pyplot as plt\n",
        "x = range(2, 30, 2)\n",
        "plt.figure(figsize = (10,8))\n",
        "plt.plot(x, tuning_data[3])\n",
        "plt.xlabel(\"Number of Topics\")\n",
        "plt.ylabel(\"Coherence score\")\n",
        "plt.legend((\"coherence_values\"), loc='best')\n",
        "plt.title('Coherence score vs Number of Topics plot for 2021')\n",
        "plt.show()\n",
        "### OPTIMAL parameter = 14"
      ],
      "metadata": {
        "colab": {
          "base_uri": "https://localhost:8080/",
          "height": 513
        },
        "id": "w8ENn5bZNu7a",
        "outputId": "a144b52c-2215-44c2-ccce-89895991812e"
      },
      "execution_count": null,
      "outputs": [
        {
          "output_type": "display_data",
          "data": {
            "text/plain": [
              "<Figure size 720x576 with 1 Axes>"
            ],
            "image/png": "[encoded data removed]"
          },
          "metadata": {
            "needs_background": "light"
          }
        }
      ]
    },
    {
      "cell_type": "code",
      "source": [
        "temp = range(2, 30, 2)\n",
        "for idx in range(len(temp)):\n",
        "  print(temp[idx], \":\", tuning_data[3][idx])"
      ],
      "metadata": {
        "colab": {
          "base_uri": "https://localhost:8080/"
        },
        "id": "MRuKjl6vbpDZ",
        "outputId": "85dfee9a-9c46-4a08-a8fc-fad3ed3110c0"
      },
      "execution_count": null,
      "outputs": [
        {
          "output_type": "stream",
          "name": "stdout",
          "text": [
            "2 : -1.8748516555208865\n",
            "4 : -1.986103813166634\n",
            "6 : -2.0161991778401336\n",
            "8 : -2.0033362803984436\n",
            "10 : -2.037431005536541\n",
            "12 : -2.0418386019270574\n",
            "14 : -2.1304100098147942\n",
            "16 : -2.07854350047153\n",
            "18 : -2.1013407611657655\n",
            "20 : -2.0843648968137254\n",
            "22 : -2.1135767219611528\n",
            "24 : -2.101422179308847\n",
            "26 : -2.0144096909409765\n",
            "28 : -2.0766743194387898\n"
          ]
        }
      ]
    },
    {
      "cell_type": "code",
      "source": [
        "import matplotlib.pyplot as plt\n",
        "x = range(2, 30, 2)\n",
        "plt.figure(figsize = (10,8))\n",
        "plt.plot(x, tuning_data[4])\n",
        "plt.xlabel(\"Number of Topics\")\n",
        "plt.ylabel(\"Coherence score\")\n",
        "plt.legend((\"coherence_values\"), loc='best')\n",
        "plt.title('Coherence score vs Number of Topics plot for 2022')\n",
        "plt.show()\n",
        "### OPTIMAL parameter = 14"
      ],
      "metadata": {
        "colab": {
          "base_uri": "https://localhost:8080/",
          "height": 513
        },
        "id": "gAZgYXD1Nx7R",
        "outputId": "b69e8e47-9e53-4680-eb70-b443ddb1961f"
      },
      "execution_count": null,
      "outputs": [
        {
          "output_type": "display_data",
          "data": {
            "text/plain": [
              "<Figure size 720x576 with 1 Axes>"
            ],
            "image/png": "[encoded data removed]"
          },
          "metadata": {
            "needs_background": "light"
          }
        }
      ]
    },
    {
      "cell_type": "code",
      "source": [
        "temp = range(2, 30, 2)\n",
        "for idx in range(len(temp)):\n",
        "  print(temp[idx], \":\", tuning_data[4][idx])"
      ],
      "metadata": {
        "colab": {
          "base_uri": "https://localhost:8080/"
        },
        "id": "FgI0JsoWbrSy",
        "outputId": "db918718-50f2-4f77-beaf-0eb2af7dff25"
      },
      "execution_count": null,
      "outputs": [
        {
          "output_type": "stream",
          "name": "stdout",
          "text": [
            "2 : -1.9660104581013544\n",
            "4 : -2.0171644125395054\n",
            "6 : -1.9479084460155047\n",
            "8 : -1.95958301272778\n",
            "10 : -1.9826598038998047\n",
            "12 : -2.140746251088451\n",
            "14 : -2.1948003878478373\n",
            "16 : -2.1006032575006937\n",
            "18 : -2.0005999952931286\n",
            "20 : -2.0853466058227697\n",
            "22 : -2.1016926626365215\n",
            "24 : -2.110600210206828\n",
            "26 : -2.1345499839881863\n",
            "28 : -2.0983740664160835\n"
          ]
        }
      ]
    },
    {
      "cell_type": "markdown",
      "source": [
        "## Re-training Model with optimum no. of topics"
      ],
      "metadata": {
        "id": "eQR3f2XkCQ8P"
      }
    },
    {
      "cell_type": "code",
      "source": [
        "import pyLDAvis\n",
        "import pyLDAvis.gensim_models"
      ],
      "metadata": {
        "id": "sGK_EFuMC7MI"
      },
      "execution_count": null,
      "outputs": []
    },
    {
      "cell_type": "code",
      "source": [
        "df_lengths = [1,150456,307779,469536,628516,751018]"
      ],
      "metadata": {
        "id": "8yE21PWQHkrE"
      },
      "execution_count": null,
      "outputs": []
    },
    {
      "cell_type": "code",
      "source": [
        "%cd /content/drive/My Drive/Capstone/Capstone Project/Capstone Data with claims/LDA_results"
      ],
      "metadata": {
        "colab": {
          "base_uri": "https://localhost:8080/"
        },
        "id": "NCrejf9CO2sB",
        "outputId": "edf1be33-6bf1-4839-9b1f-637b7730426d"
      },
      "execution_count": null,
      "outputs": [
        {
          "output_type": "stream",
          "name": "stdout",
          "text": [
            "/content/drive/.shortcut-targets-by-id/1CE8VB6qMzazuyyFbb_EaMzD5uwK0eBm6/Capstone/Capstone Project/Capstone Data with claims/LDA_results\n"
          ]
        }
      ]
    },
    {
      "cell_type": "markdown",
      "source": [
        "### 2018"
      ],
      "metadata": {
        "id": "TkSWmC0dCm7h"
      }
    },
    {
      "cell_type": "code",
      "source": [
        "outer_list_year = outer_list_pkl[df_lengths[0]-1:df_lengths[1]]\n",
        "tfidf = models.TfidfModel(outer_list_year)\n",
        "corpus_tfidf = tfidf[outer_list_year]\n",
        "model_2018 = gensim.models.LdaMulticore(corpus_tfidf, num_topics=8, id2word = id2word)"
      ],
      "metadata": {
        "id": "JPaJbZiRqoV0"
      },
      "execution_count": null,
      "outputs": []
    },
    {
      "cell_type": "code",
      "source": [
        "topics_list = []\n",
        "for idx, topic in model_2018.print_topics(-1):\n",
        "  print('Topic: {} \\nWords: {}'.format(idx, topic))\n",
        "  topics_list.append('Topic: {} \\nWords: {}'.format(idx, topic))\n",
        "\n",
        "lda_model_filepath = 'lda_model_2018_topics_words'\n",
        "with open(lda_model_filepath, 'wb') as f:\n",
        "  pickle.dump(topics_list, f)\n",
        "\n",
        "pyLDAvis.enable_notebook()\n",
        "LDAvis_data_filepath = 'ldavis_prepared_2018'\n",
        "\n",
        "LDAvis_prepared = pyLDAvis.gensim_models.prepare(model_2018, outer_list_year, id2word)\n",
        "with open(LDAvis_data_filepath, 'wb') as f:\n",
        "    pickle.dump(LDAvis_prepared, f)\n",
        "\n",
        "with open(LDAvis_data_filepath, 'rb') as f:\n",
        "    LDAvis_prepared = pickle.load(f)\n",
        "pyLDAvis.save_html(LDAvis_prepared, 'ldavis_prepared_2018' + '.html')"
      ],
      "metadata": {
        "colab": {
          "base_uri": "https://localhost:8080/"
        },
        "id": "cafhgbZiI3nh",
        "outputId": "99f394ca-bf9b-4f57-8dee-d722b34355a5"
      },
      "execution_count": null,
      "outputs": [
        {
          "output_type": "stream",
          "name": "stdout",
          "text": [
            "Topic: 0 \n",
            "Words: 0.035*\"acid\" + 0.025*\"composition\" + 0.024*\"consist\" + 0.022*\"thereof\" + 0.021*\"agent\" + 0.020*\"weight\" + 0.018*\"cell\" + 0.016*\"sequence\" + 0.016*\"compound\" + 0.014*\"step\"\n",
            "Topic: 1 \n",
            "Words: 0.031*\"signal\" + 0.022*\"voltage\" + 0.018*\"output\" + 0.016*\"power\" + 0.014*\"circuit\" + 0.014*\"frequency\" + 0.013*\"current\" + 0.013*\"control\" + 0.012*\"value\" + 0.011*\"cell\"\n",
            "Topic: 2 \n",
            "Words: 0.021*\"image\" + 0.016*\"sensor\" + 0.016*\"value\" + 0.015*\"system\" + 0.013*\"object\" + 0.010*\"information\" + 0.010*\"time\" + 0.010*\"base\" + 0.009*\"display\" + 0.009*\"model\"\n",
            "Topic: 3 \n",
            "Words: 0.013*\"surface\" + 0.012*\"plate\" + 0.012*\"chamber\" + 0.012*\"side\" + 0.012*\"valve\" + 0.011*\"housing\" + 0.011*\"wall\" + 0.011*\"assembly\" + 0.011*\"section\" + 0.010*\"fluid\"\n",
            "Topic: 4 \n",
            "Words: 0.021*\"member\" + 0.017*\"surface\" + 0.015*\"direction\" + 0.014*\"body\" + 0.013*\"element\" + 0.013*\"axis\" + 0.011*\"side\" + 0.011*\"extend\" + 0.010*\"shaft\" + 0.010*\"support\"\n",
            "Topic: 5 \n",
            "Words: 0.019*\"information\" + 0.019*\"apparatus\" + 0.015*\"network\" + 0.014*\"system\" + 0.014*\"message\" + 0.013*\"user\" + 0.013*\"processor\" + 0.012*\"communication\" + 0.011*\"request\" + 0.011*\"control\"\n",
            "Topic: 6 \n",
            "Words: 0.041*\"computer\" + 0.033*\"program\" + 0.029*\"medium\" + 0.027*\"system\" + 0.023*\"instruction\" + 0.022*\"processor\" + 0.022*\"nontransitory\" + 0.019*\"storage\" + 0.019*\"product\" + 0.018*\"computerreadable\"\n",
            "Topic: 7 \n",
            "Words: 0.059*\"layer\" + 0.028*\"material\" + 0.023*\"substrate\" + 0.021*\"electrode\" + 0.018*\"region\" + 0.017*\"surface\" + 0.017*\"conductive\" + 0.015*\"film\" + 0.015*\"metal\" + 0.014*\"form\"\n"
          ]
        }
      ]
    },
    {
      "cell_type": "code",
      "source": [
        "model_2018.save(\"LDA_model_2018\")"
      ],
      "metadata": {
        "id": "W_MqPfdcI5Xl"
      },
      "execution_count": null,
      "outputs": []
    },
    {
      "cell_type": "markdown",
      "source": [
        "## 2019"
      ],
      "metadata": {
        "id": "XL2rKcSXI5wD"
      }
    },
    {
      "cell_type": "code",
      "source": [
        "outer_list_year = outer_list_pkl[df_lengths[1]-1:df_lengths[2]]\n",
        "tfidf = models.TfidfModel(outer_list_year)\n",
        "corpus_tfidf = tfidf[outer_list_year]\n",
        "model_2019 = gensim.models.LdaMulticore(corpus_tfidf, num_topics=12, id2word = id2word)"
      ],
      "metadata": {
        "id": "hNaaBMdLI6zX"
      },
      "execution_count": null,
      "outputs": []
    },
    {
      "cell_type": "code",
      "source": [
        "topics_list = []\n",
        "for idx, topic in model_2019.print_topics(-1):\n",
        "  print('Topic: {} \\nWords: {}'.format(idx, topic))\n",
        "  topics_list.append('Topic: {} \\nWords: {}'.format(idx, topic))\n",
        "\n",
        "lda_model_filepath = 'lda_model_2019_topics_words'\n",
        "with open(lda_model_filepath, 'wb') as f:\n",
        "  pickle.dump(topics_list, f)\n",
        "\n",
        "pyLDAvis.enable_notebook()\n",
        "LDAvis_data_filepath = 'ldavis_prepared_2019'\n",
        "\n",
        "LDAvis_prepared = pyLDAvis.gensim_models.prepare(model_2019, outer_list_year, id2word)\n",
        "with open(LDAvis_data_filepath, 'wb') as f:\n",
        "    pickle.dump(LDAvis_prepared, f)\n",
        "\n",
        "with open(LDAvis_data_filepath, 'rb') as f:\n",
        "    LDAvis_prepared = pickle.load(f)\n",
        "pyLDAvis.save_html(LDAvis_prepared, 'ldavis_prepared_2019' + '.html')"
      ],
      "metadata": {
        "colab": {
          "base_uri": "https://localhost:8080/"
        },
        "id": "Tn3jUUNUWJ3p",
        "outputId": "0fce2d8e-38e2-44c3-f7c3-4bb593d96c73"
      },
      "execution_count": null,
      "outputs": [
        {
          "output_type": "stream",
          "name": "stdout",
          "text": [
            "Topic: 0 \n",
            "Words: 0.026*\"flow\" + 0.024*\"fluid\" + 0.023*\"valve\" + 0.022*\"chamber\" + 0.021*\"gas\" + 0.020*\"pressure\" + 0.014*\"air\" + 0.013*\"element\" + 0.013*\"mm\" + 0.011*\"outlet\"\n",
            "Topic: 1 \n",
            "Words: 0.022*\"member\" + 0.018*\"direction\" + 0.016*\"surface\" + 0.015*\"axis\" + 0.014*\"body\" + 0.014*\"side\" + 0.012*\"extend\" + 0.012*\"element\" + 0.011*\"assembly\" + 0.011*\"housing\"\n",
            "Topic: 2 \n",
            "Words: 0.032*\"layer\" + 0.025*\"surface\" + 0.020*\"material\" + 0.016*\"substrate\" + 0.015*\"conductive\" + 0.014*\"form\" + 0.013*\"region\" + 0.013*\"side\" + 0.012*\"structure\" + 0.011*\"top\"\n",
            "Topic: 3 \n",
            "Words: 0.031*\"apparatus\" + 0.031*\"signal\" + 0.029*\"sensor\" + 0.020*\"measurement\" + 0.016*\"filter\" + 0.015*\"frequency\" + 0.013*\"value\" + 0.012*\"phase\" + 0.012*\"circuitry\" + 0.011*\"vector\"\n",
            "Topic: 4 \n",
            "Words: 0.044*\"computer\" + 0.037*\"medium\" + 0.037*\"program\" + 0.030*\"nontransitory\" + 0.029*\"processor\" + 0.028*\"instruction\" + 0.027*\"system\" + 0.025*\"computerreadable\" + 0.024*\"storage\" + 0.023*\"cause\"\n",
            "Topic: 5 \n",
            "Words: 0.023*\"information\" + 0.018*\"network\" + 0.017*\"system\" + 0.016*\"user\" + 0.015*\"request\" + 0.015*\"message\" + 0.013*\"server\" + 0.012*\"associate\" + 0.012*\"resource\" + 0.012*\"communication\"\n",
            "Topic: 6 \n",
            "Words: 0.028*\"panel\" + 0.021*\"section\" + 0.021*\"vehicle\" + 0.021*\"arm\" + 0.016*\"sensor\" + 0.015*\"mechanism\" + 0.014*\"connector\" + 0.012*\"module\" + 0.012*\"front\" + 0.011*\"rear\"\n",
            "Topic: 7 \n",
            "Words: 0.030*\"image\" + 0.018*\"display\" + 0.017*\"value\" + 0.016*\"object\" + 0.015*\"system\" + 0.013*\"information\" + 0.012*\"model\" + 0.012*\"user\" + 0.011*\"base\" + 0.011*\"time\"\n",
            "Topic: 8 \n",
            "Words: 0.031*\"signal\" + 0.029*\"voltage\" + 0.024*\"circuit\" + 0.022*\"power\" + 0.020*\"control\" + 0.018*\"output\" + 0.018*\"switch\" + 0.017*\"current\" + 0.016*\"mode\" + 0.015*\"terminal\"\n",
            "Topic: 9 \n",
            "Words: 0.054*\"cell\" + 0.033*\"step\" + 0.026*\"sample\" + 0.019*\"temperature\" + 0.014*\"particle\" + 0.013*\"heat\" + 0.013*\"produce\" + 0.011*\"condition\" + 0.011*\"following\" + 0.011*\"treatment\"\n",
            "Topic: 10 \n",
            "Words: 0.054*\"light\" + 0.029*\"electrode\" + 0.023*\"pixel\" + 0.020*\"wavelength\" + 0.020*\"region\" + 0.018*\"sequence\" + 0.017*\"nm\" + 0.016*\"emit\" + 0.016*\"layer\" + 0.015*\"source\"\n",
            "Topic: 11 \n",
            "Words: 0.034*\"acid\" + 0.025*\"composition\" + 0.024*\"consist\" + 0.023*\"weight\" + 0.022*\"thereof\" + 0.020*\"agent\" + 0.019*\"layer\" + 0.017*\"compound\" + 0.015*\"amount\" + 0.014*\"combination\"\n"
          ]
        }
      ]
    },
    {
      "cell_type": "code",
      "source": [
        "model_2019.save(\"LDA_model_2019\")"
      ],
      "metadata": {
        "id": "FrnzdVbRWSxC"
      },
      "execution_count": null,
      "outputs": []
    },
    {
      "cell_type": "markdown",
      "source": [
        "## 2020"
      ],
      "metadata": {
        "id": "Mkbbn4kvWWe2"
      }
    },
    {
      "cell_type": "code",
      "source": [
        "outer_list_year = outer_list_pkl[df_lengths[2]-1:df_lengths[3]]\n",
        "tfidf = models.TfidfModel(outer_list_year)\n",
        "corpus_tfidf = tfidf[outer_list_year]\n",
        "model_2020 = gensim.models.LdaMulticore(corpus_tfidf, num_topics=6, id2word = id2word)"
      ],
      "metadata": {
        "id": "2qCxoEXIWU-M"
      },
      "execution_count": null,
      "outputs": []
    },
    {
      "cell_type": "code",
      "source": [
        "topics_list = []\n",
        "for idx, topic in model_2020.print_topics(-1):\n",
        "  print('Topic: {} \\nWords: {}'.format(idx, topic))\n",
        "  topics_list.append('Topic: {} \\nWords: {}'.format(idx, topic))\n",
        "\n",
        "lda_model_filepath = 'lda_model_2020_topics_words'\n",
        "with open(lda_model_filepath, 'wb') as f:\n",
        "  pickle.dump(topics_list, f)\n",
        "\n",
        "pyLDAvis.enable_notebook()\n",
        "LDAvis_data_filepath = 'ldavis_prepared_2020'\n",
        "\n",
        "LDAvis_prepared = pyLDAvis.gensim_models.prepare(model_2020, outer_list_year, id2word)\n",
        "with open(LDAvis_data_filepath, 'wb') as f:\n",
        "    pickle.dump(LDAvis_prepared, f)\n",
        "\n",
        "with open(LDAvis_data_filepath, 'rb') as f:\n",
        "    LDAvis_prepared = pickle.load(f)\n",
        "pyLDAvis.save_html(LDAvis_prepared, 'ldavis_prepared_2020' + '.html')"
      ],
      "metadata": {
        "colab": {
          "base_uri": "https://localhost:8080/"
        },
        "id": "gXNF6n2sWtXN",
        "outputId": "58021995-3aea-489e-873c-61daddb1d991"
      },
      "execution_count": null,
      "outputs": [
        {
          "output_type": "stream",
          "name": "stdout",
          "text": [
            "Topic: 0 \n",
            "Words: 0.032*\"acid\" + 0.023*\"composition\" + 0.021*\"cell\" + 0.021*\"consist\" + 0.020*\"thereof\" + 0.019*\"weight\" + 0.019*\"agent\" + 0.017*\"sequence\" + 0.015*\"amount\" + 0.014*\"step\"\n",
            "Topic: 1 \n",
            "Words: 0.023*\"signal\" + 0.019*\"image\" + 0.016*\"sensor\" + 0.016*\"voltage\" + 0.016*\"light\" + 0.013*\"circuit\" + 0.012*\"output\" + 0.012*\"control\" + 0.012*\"unit\" + 0.012*\"power\"\n",
            "Topic: 2 \n",
            "Words: 0.037*\"layer\" + 0.022*\"material\" + 0.018*\"surface\" + 0.016*\"electrode\" + 0.015*\"substrate\" + 0.013*\"region\" + 0.012*\"form\" + 0.012*\"metal\" + 0.011*\"conductive\" + 0.011*\"structure\"\n",
            "Topic: 3 \n",
            "Words: 0.023*\"user\" + 0.023*\"information\" + 0.017*\"system\" + 0.012*\"message\" + 0.011*\"associate\" + 0.010*\"server\" + 0.010*\"resource\" + 0.010*\"network\" + 0.010*\"request\" + 0.010*\"communication\"\n",
            "Topic: 4 \n",
            "Words: 0.027*\"computer\" + 0.025*\"medium\" + 0.023*\"system\" + 0.023*\"processor\" + 0.021*\"program\" + 0.021*\"nontransitory\" + 0.020*\"instruction\" + 0.018*\"computerreadable\" + 0.017*\"apparatus\" + 0.016*\"storage\"\n",
            "Topic: 5 \n",
            "Words: 0.018*\"member\" + 0.016*\"surface\" + 0.014*\"direction\" + 0.014*\"side\" + 0.013*\"body\" + 0.011*\"axis\" + 0.011*\"extend\" + 0.010*\"support\" + 0.010*\"housing\" + 0.010*\"assembly\"\n"
          ]
        }
      ]
    },
    {
      "cell_type": "code",
      "source": [
        "model_2020.save(\"LDA_model_2020\")"
      ],
      "metadata": {
        "id": "EGmoxmJOWvCf"
      },
      "execution_count": null,
      "outputs": []
    },
    {
      "cell_type": "markdown",
      "source": [
        "## 2021"
      ],
      "metadata": {
        "id": "t8L6Td3zWwGt"
      }
    },
    {
      "cell_type": "code",
      "source": [
        "outer_list_year = outer_list_pkl[df_lengths[3]-1:df_lengths[4]]\n",
        "tfidf = models.TfidfModel(outer_list_year)\n",
        "corpus_tfidf = tfidf[outer_list_year]\n",
        "model_2021 = gensim.models.LdaMulticore(corpus_tfidf, num_topics=14, id2word = id2word)"
      ],
      "metadata": {
        "id": "CfcSUZnkWzEw"
      },
      "execution_count": null,
      "outputs": []
    },
    {
      "cell_type": "code",
      "source": [
        "topics_list = []\n",
        "for idx, topic in model_2021.print_topics(-1):\n",
        "  print('Topic: {} \\nWords: {}'.format(idx, topic))\n",
        "  topics_list.append('Topic: {} \\nWords: {}'.format(idx, topic))\n",
        "\n",
        "lda_model_filepath = 'lda_model_2021_topics_words'\n",
        "with open(lda_model_filepath, 'wb') as f:\n",
        "  pickle.dump(topics_list, f)\n",
        "\n",
        "pyLDAvis.enable_notebook()\n",
        "LDAvis_data_filepath = 'ldavis_prepared_2021'\n",
        "\n",
        "LDAvis_prepared = pyLDAvis.gensim_models.prepare(model_2021, outer_list_year, id2word)\n",
        "with open(LDAvis_data_filepath, 'wb') as f:\n",
        "    pickle.dump(LDAvis_prepared, f)\n",
        "\n",
        "with open(LDAvis_data_filepath, 'rb') as f:\n",
        "    LDAvis_prepared = pickle.load(f)\n",
        "pyLDAvis.save_html(LDAvis_prepared, 'ldavis_prepared_2021' + '.html')"
      ],
      "metadata": {
        "colab": {
          "base_uri": "https://localhost:8080/"
        },
        "id": "0PWz8CKJW0eq",
        "outputId": "efd6fc66-1c78-4f20-8f49-c9922bf3b28f"
      },
      "execution_count": null,
      "outputs": [
        {
          "output_type": "stream",
          "name": "stdout",
          "text": [
            "Topic: 0 \n",
            "Words: 0.040*\"element\" + 0.035*\"gas\" + 0.027*\"heat\" + 0.019*\"temperature\" + 0.018*\"pressure\" + 0.014*\"module\" + 0.013*\"step\" + 0.011*\"supply\" + 0.011*\"liquid\" + 0.011*\"flow\"\n",
            "Topic: 1 \n",
            "Words: 0.030*\"region\" + 0.021*\"surface\" + 0.019*\"structure\" + 0.016*\"material\" + 0.015*\"body\" + 0.014*\"mm\" + 0.014*\"gate\" + 0.014*\"fiber\" + 0.013*\"width\" + 0.013*\"segment\"\n",
            "Topic: 2 \n",
            "Words: 0.037*\"computer\" + 0.034*\"medium\" + 0.029*\"nontransitory\" + 0.028*\"processor\" + 0.028*\"program\" + 0.028*\"system\" + 0.024*\"instruction\" + 0.023*\"computerreadable\" + 0.022*\"storage\" + 0.021*\"cause\"\n",
            "Topic: 3 \n",
            "Words: 0.021*\"member\" + 0.019*\"surface\" + 0.016*\"side\" + 0.016*\"direction\" + 0.014*\"axis\" + 0.012*\"support\" + 0.012*\"body\" + 0.012*\"extend\" + 0.011*\"wall\" + 0.010*\"arm\"\n",
            "Topic: 4 \n",
            "Words: 0.025*\"signal\" + 0.025*\"resource\" + 0.024*\"claim\" + 0.022*\"frequency\" + 0.019*\"transmission\" + 0.019*\"information\" + 0.018*\"image\" + 0.017*\"channel\" + 0.015*\"message\" + 0.015*\"transmit\"\n",
            "Topic: 5 \n",
            "Words: 0.022*\"sensor\" + 0.021*\"value\" + 0.018*\"vehicle\" + 0.017*\"parameter\" + 0.016*\"controller\" + 0.014*\"mode\" + 0.013*\"threshold\" + 0.012*\"time\" + 0.012*\"control\" + 0.012*\"unit\"\n",
            "Topic: 6 \n",
            "Words: 0.035*\"signal\" + 0.034*\"voltage\" + 0.030*\"circuit\" + 0.022*\"output\" + 0.020*\"switch\" + 0.020*\"current\" + 0.018*\"power\" + 0.017*\"control\" + 0.017*\"apparatus\" + 0.015*\"line\"\n",
            "Topic: 7 \n",
            "Words: 0.028*\"user\" + 0.021*\"system\" + 0.016*\"network\" + 0.015*\"information\" + 0.014*\"request\" + 0.014*\"associate\" + 0.014*\"processor\" + 0.013*\"application\" + 0.013*\"service\" + 0.012*\"interface\"\n",
            "Topic: 8 \n",
            "Words: 0.021*\"fluid\" + 0.020*\"chamber\" + 0.019*\"flow\" + 0.018*\"valve\" + 0.018*\"assembly\" + 0.018*\"housing\" + 0.015*\"outlet\" + 0.015*\"air\" + 0.014*\"inlet\" + 0.012*\"pressure\"\n",
            "Topic: 9 \n",
            "Words: 0.038*\"information\" + 0.025*\"server\" + 0.021*\"patient\" + 0.015*\"matrix\" + 0.014*\"profile\" + 0.013*\"identification\" + 0.013*\"system\" + 0.011*\"component\" + 0.011*\"table\" + 0.011*\"number\"\n",
            "Topic: 10 \n",
            "Words: 0.072*\"cell\" + 0.058*\"sequence\" + 0.039*\"acid\" + 0.030*\"protein\" + 0.023*\"vector\" + 0.022*\"produce\" + 0.020*\"sample\" + 0.019*\"encode\" + 0.017*\"human\" + 0.017*\"consist\"\n",
            "Topic: 11 \n",
            "Words: 0.028*\"acid\" + 0.026*\"composition\" + 0.025*\"weight\" + 0.024*\"thereof\" + 0.023*\"agent\" + 0.022*\"consist\" + 0.017*\"compound\" + 0.016*\"amount\" + 0.016*\"combination\" + 0.014*\"salt\"\n",
            "Topic: 12 \n",
            "Words: 0.073*\"layer\" + 0.031*\"substrate\" + 0.027*\"material\" + 0.023*\"conductive\" + 0.019*\"surface\" + 0.017*\"metal\" + 0.017*\"film\" + 0.015*\"electrode\" + 0.014*\"form\" + 0.013*\"thickness\"\n",
            "Topic: 13 \n",
            "Words: 0.056*\"light\" + 0.036*\"electrode\" + 0.027*\"display\" + 0.020*\"emit\" + 0.020*\"source\" + 0.018*\"image\" + 0.018*\"optical\" + 0.015*\"terminal\" + 0.014*\"wavelength\" + 0.013*\"color\"\n"
          ]
        }
      ]
    },
    {
      "cell_type": "code",
      "source": [
        "model_2021.save(\"LDA_model_2021\")"
      ],
      "metadata": {
        "id": "gTxhQsjTW2pe"
      },
      "execution_count": null,
      "outputs": []
    },
    {
      "cell_type": "markdown",
      "source": [
        "## 2022"
      ],
      "metadata": {
        "id": "clIDI0XJW3aK"
      }
    },
    {
      "cell_type": "code",
      "source": [
        "outer_list_year = outer_list_pkl[df_lengths[4]-1:df_lengths[5]]\n",
        "tfidf = models.TfidfModel(outer_list_year)\n",
        "corpus_tfidf = tfidf[outer_list_year]\n",
        "model_2022 = gensim.models.LdaMulticore(corpus_tfidf, num_topics=14, id2word = id2word)"
      ],
      "metadata": {
        "id": "lEDzWV-2W4eI"
      },
      "execution_count": null,
      "outputs": []
    },
    {
      "cell_type": "code",
      "source": [
        "topics_list = []\n",
        "for idx, topic in model_2022.print_topics(-1):\n",
        "  print('Topic: {} \\nWords: {}'.format(idx, topic))\n",
        "  topics_list.append('Topic: {} \\nWords: {}'.format(idx, topic))\n",
        "\n",
        "lda_model_filepath = 'lda_model_2022_topics_words'\n",
        "with open(lda_model_filepath, 'wb') as f:\n",
        "  pickle.dump(topics_list, f)\n",
        "\n",
        "pyLDAvis.enable_notebook()\n",
        "LDAvis_data_filepath = 'ldavis_prepared_2022'\n",
        "\n",
        "LDAvis_prepared = pyLDAvis.gensim_models.prepare(model_2022, outer_list_year, id2word)\n",
        "with open(LDAvis_data_filepath, 'wb') as f:\n",
        "    pickle.dump(LDAvis_prepared, f)\n",
        "\n",
        "with open(LDAvis_data_filepath, 'rb') as f:\n",
        "    LDAvis_prepared = pickle.load(f)\n",
        "pyLDAvis.save_html(LDAvis_prepared, 'ldavis_prepared_2022' + '.html')"
      ],
      "metadata": {
        "colab": {
          "base_uri": "https://localhost:8080/"
        },
        "id": "4DVBxWQnW572",
        "outputId": "cf9f08dc-40de-4247-faff-ce3112b3248f"
      },
      "execution_count": null,
      "outputs": [
        {
          "output_type": "stream",
          "name": "stdout",
          "text": [
            "Topic: 0 \n",
            "Words: 0.078*\"layer\" + 0.023*\"region\" + 0.023*\"material\" + 0.020*\"structure\" + 0.019*\"gate\" + 0.017*\"conductive\" + 0.017*\"substrate\" + 0.016*\"electrode\" + 0.015*\"surface\" + 0.015*\"metal\"\n",
            "Topic: 1 \n",
            "Words: 0.041*\"sensor\" + 0.022*\"event\" + 0.019*\"component\" + 0.016*\"process\" + 0.015*\"system\" + 0.015*\"action\" + 0.013*\"detection\" + 0.012*\"block\" + 0.011*\"detect\" + 0.010*\"address\"\n",
            "Topic: 2 \n",
            "Words: 0.038*\"computer\" + 0.033*\"medium\" + 0.030*\"program\" + 0.028*\"processor\" + 0.027*\"nontransitory\" + 0.024*\"instruction\" + 0.024*\"computerreadable\" + 0.022*\"storage\" + 0.021*\"cause\" + 0.020*\"system\"\n",
            "Topic: 3 \n",
            "Words: 0.031*\"system\" + 0.026*\"user\" + 0.024*\"model\" + 0.018*\"compute\" + 0.016*\"display\" + 0.013*\"network\" + 0.013*\"application\" + 0.013*\"machine\" + 0.012*\"content\" + 0.012*\"processor\"\n",
            "Topic: 4 \n",
            "Words: 0.024*\"weight\" + 0.024*\"acid\" + 0.021*\"composition\" + 0.020*\"agent\" + 0.020*\"thereof\" + 0.019*\"consist\" + 0.016*\"compound\" + 0.015*\"polymer\" + 0.014*\"mixture\" + 0.014*\"material\"\n",
            "Topic: 5 \n",
            "Words: 0.018*\"surface\" + 0.018*\"direction\" + 0.018*\"member\" + 0.014*\"axis\" + 0.014*\"side\" + 0.012*\"extend\" + 0.011*\"support\" + 0.011*\"body\" + 0.010*\"element\" + 0.010*\"assembly\"\n",
            "Topic: 6 \n",
            "Words: 0.018*\"air\" + 0.017*\"heat\" + 0.016*\"wall\" + 0.016*\"housing\" + 0.014*\"flow\" + 0.014*\"outlet\" + 0.013*\"fluid\" + 0.013*\"pressure\" + 0.013*\"inlet\" + 0.011*\"side\"\n",
            "Topic: 7 \n",
            "Words: 0.032*\"information\" + 0.024*\"image\" + 0.022*\"apparatus\" + 0.018*\"message\" + 0.017*\"request\" + 0.015*\"service\" + 0.014*\"network\" + 0.014*\"identifier\" + 0.013*\"user\" + 0.013*\"system\"\n",
            "Topic: 8 \n",
            "Words: 0.030*\"circuit\" + 0.025*\"voltage\" + 0.024*\"electrode\" + 0.023*\"signal\" + 0.022*\"current\" + 0.019*\"switch\" + 0.016*\"output\" + 0.013*\"power\" + 0.013*\"charge\" + 0.012*\"control\"\n",
            "Topic: 9 \n",
            "Words: 0.048*\"cell\" + 0.047*\"sequence\" + 0.040*\"acid\" + 0.026*\"subject\" + 0.025*\"disease\" + 0.025*\"protein\" + 0.024*\"composition\" + 0.022*\"administer\" + 0.021*\"consist\" + 0.018*\"thereof\"\n",
            "Topic: 10 \n",
            "Words: 0.020*\"chamber\" + 0.018*\"gas\" + 0.017*\"surface\" + 0.017*\"plate\" + 0.016*\"body\" + 0.015*\"cavity\" + 0.014*\"seal\" + 0.012*\"port\" + 0.012*\"opening\" + 0.012*\"fluid\"\n",
            "Topic: 11 \n",
            "Words: 0.033*\"light\" + 0.022*\"unit\" + 0.020*\"line\" + 0.020*\"substrate\" + 0.019*\"signal\" + 0.018*\"pixel\" + 0.015*\"layer\" + 0.015*\"pattern\" + 0.014*\"panel\" + 0.012*\"emit\"\n",
            "Topic: 12 \n",
            "Words: 0.043*\"mode\" + 0.030*\"terminal\" + 0.021*\"controller\" + 0.021*\"temperature\" + 0.017*\"system\" + 0.012*\"operation\" + 0.012*\"user\" + 0.011*\"mobile\" + 0.011*\"control\" + 0.011*\"operating\"\n",
            "Topic: 13 \n",
            "Words: 0.025*\"signal\" + 0.020*\"resource\" + 0.019*\"value\" + 0.016*\"frequency\" + 0.016*\"transmission\" + 0.016*\"time\" + 0.015*\"control\" + 0.014*\"channel\" + 0.012*\"information\" + 0.012*\"transmit\"\n"
          ]
        }
      ]
    },
    {
      "cell_type": "code",
      "source": [
        "model_2022.save(\"LDA_model_2022\")"
      ],
      "metadata": {
        "id": "QvsNIB_QW7Ho"
      },
      "execution_count": null,
      "outputs": []
    },
    {
      "cell_type": "code",
      "source": [],
      "metadata": {
        "id": "OJYVIVwqYyRa"
      },
      "execution_count": null,
      "outputs": []
    }
  ]
}