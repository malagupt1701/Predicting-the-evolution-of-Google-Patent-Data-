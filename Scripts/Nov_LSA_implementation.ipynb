{
  "nbformat": 4,
  "nbformat_minor": 0,
  "metadata": {
    "colab": {
      "provenance": []
    },
    "kernelspec": {
      "name": "python3",
      "display_name": "Python 3"
    },
    "language_info": {
      "name": "python"
    },
    "accelerator": "GPU",
    "gpuClass": "standard"
  },
  "cells": [
    {
      "cell_type": "code",
      "execution_count": 1,
      "metadata": {
        "colab": {
          "base_uri": "https://localhost:8080/"
        },
        "id": "1HW_-tuSbKft",
        "outputId": "c7e9ef34-8ae0-4ac2-ae07-ba2485324d65"
      },
      "outputs": [
        {
          "output_type": "stream",
          "name": "stdout",
          "text": [
            "Mounted at /content/drive/\n"
          ]
        }
      ],
      "source": [
        "from google.colab import drive\n",
        "drive.mount('/content/drive/')"
      ]
    },
    {
      "cell_type": "code",
      "source": [
        "%cd /content/drive/My Drive/Capstone/Capstone Project/Capstone Data with claims/"
      ],
      "metadata": {
        "colab": {
          "base_uri": "https://localhost:8080/"
        },
        "id": "sjSyra-rbO4x",
        "outputId": "35bba2fa-4b15-4d6f-fd8f-e27770b0127a"
      },
      "execution_count": 2,
      "outputs": [
        {
          "output_type": "stream",
          "name": "stdout",
          "text": [
            "/content/drive/My Drive/Capstone/Capstone Project/Capstone Data with claims\n"
          ]
        }
      ]
    },
    {
      "cell_type": "code",
      "source": [
        "import pandas as pd\n",
        "import ast\n",
        "import pickle\n",
        "from sklearn.decomposition import TruncatedSVD"
      ],
      "metadata": {
        "id": "_-M6aOD_bi5J"
      },
      "execution_count": 3,
      "outputs": []
    },
    {
      "cell_type": "code",
      "source": [
        "word_mat = pd.read_pickle('allyears_all.pkl')"
      ],
      "metadata": {
        "id": "uZqxrUBEtMSg"
      },
      "execution_count": 4,
      "outputs": []
    },
    {
      "cell_type": "code",
      "source": [
        "def convert_Description(text):\n",
        "    text = text.replace(\"dict_items(\",\"\")\n",
        "    text = ast.literal_eval(text[:-1])\n",
        "    return text"
      ],
      "metadata": {
        "id": "7B4NLfp3cIYa"
      },
      "execution_count": 5,
      "outputs": []
    },
    {
      "cell_type": "code",
      "source": [
        "def extract_words(text):\n",
        "  return [word[0] for word in text]"
      ],
      "metadata": {
        "id": "ynuyXoH5cK_2"
      },
      "execution_count": 6,
      "outputs": []
    },
    {
      "cell_type": "code",
      "source": [
        "year = 2018\n",
        "df_lengths = [1,150456,307779,469536,628516,751018]\n",
        "stop_words = []\n",
        "print('=================================================================')\n",
        "\n",
        "for j in range(5):\n",
        "  print('We are processing the year ',int(year+j),'...')\n",
        "  \n",
        "  df = pd.read_csv(str(int(year+j))+'-data-merged.csv')\n",
        "  df[\"Description\"] = df[\"Description\"].apply(convert_Description)\n",
        "  df[\"Words\"] = df[\"Description\"].apply(extract_words)\n",
        "  df.drop(columns = [ 'Unnamed: 0' , 'Doc_number' , 'Title' , 'Type',\n",
        "                     'App_Date' , 'Country' , 'Org_Name' , 'Org_City' ,\n",
        "                     'Org_Country' , 'No_inventors' , 'Abstract'] ,\n",
        "          inplace = True)\n",
        "  \n",
        "  temp_word_mat = word_mat.T.iloc[df_lengths[j]-1:df_lengths[j+1]].T\n",
        "  temp_word_mat = temp_word_mat.drop(['first', 'second', 'say', 'one', 'wherein', \n",
        "                          'accord', 'device', 'method', 'comprise','comprising',\n",
        "                          'comprises', 'include', 'portion', 'least','determine',\n",
        "                          'select','position','set','use','end'],axis=0)\n",
        "  dictionary = list(temp_word_mat.T.columns)\n",
        "  n_components=8\n",
        "  svd_model = TruncatedSVD(n_components=n_components, algorithm='randomized', n_iter=100, random_state=122)\n",
        "  print('Running LSA model...')\n",
        "  lsa = svd_model.fit_transform(temp_word_mat.T)\n",
        "  print('LSA model finished.')\n",
        "  index = [str('topic_' + str(num)) for num in range(n_components)]\n",
        "  encoding_matrix = pd.DataFrame(svd_model.components_, index = index, columns = (dictionary)).T\n",
        "\n",
        "  topic_encoded_df = pd.DataFrame(lsa, columns = index)\n",
        "  topic_encoded_df[\"Description\"] = df['Description']\n",
        "  topic_encoded_df[\"Best_topic\"] = topic_encoded_df[index].idxmax(axis=1)\n",
        "  topic_encoded_df.to_csv('Topics-'+str(int(year+j))+'-data-merged.csv',index=False)\n",
        "  sets = set()\n",
        "  for i in encoding_matrix.columns:\n",
        "    print(f'Top weighing words for {i} as below:')\n",
        "    temp = encoding_matrix.sort_values(by=[i],ascending=False, key=abs)\n",
        "    w=0\n",
        "    while w<len(temp) and (temp[i][w]>=0.1 or temp[i][w]<=-0.1):\n",
        "        w+=1\n",
        "    print([str(str(x)+\"*\"+str(temp[i][x])) for x in temp[i][:w].index])\n",
        "    print()\n",
        "    tempset= set()\n",
        "    if i=='topic_1':\n",
        "      for x in temp[i][:w].index:\n",
        "        tempset.add(str(x))\n",
        "      sets=tempset\n",
        "    else:\n",
        "      for x in temp[i][:w].index:\n",
        "        tempset.add(str(x))\n",
        "    sets.intersection(tempset)\n",
        "  stop_words.append(list(sets))\n",
        "  print('Possible stop words here: ', stop_words[j])\n",
        "  print('=================================================================')"
      ],
      "metadata": {
        "colab": {
          "base_uri": "https://localhost:8080/"
        },
        "id": "yFIwgBRaAqP5",
        "outputId": "e1703aa5-95d1-4f40-d96b-6d279e35e7c7"
      },
      "execution_count": 7,
      "outputs": [
        {
          "output_type": "stream",
          "name": "stdout",
          "text": [
            "=================================================================\n",
            "We are processing the year  2018 ...\n",
            "Running LSA model...\n",
            "LSA model finished.\n",
            "Top weighing words for topic_0 as below:\n",
            "['system*0.24496665616663804', 'configure*0.23619633578766233', 'data*0.23582071558480602', 'plurality*0.22027708743113492', 'base*0.1877808218779788', 'far*0.1845159813564128', 'signal*0.1813601449663799', 'surface*0.15156977094989188', 'id*0.1406953603099802', 'control*0.13288258058141464', 'value*0.13126749935171012', 'information*0.13047693812391997', 'processor*0.1256668672031873', 'medium*0.121517396519798', 'computer*0.12044778243770149', 'user*0.11922303181068392', 'receive*0.11765157484307716', 'element*0.11431311944001057', 'time*0.10956277098289445', 'instruction*0.10368621586826939', 'layer*0.10180140137401571', 'unit*0.10073717104360883']\n",
            "\n",
            "Top weighing words for topic_1 as below:\n",
            "['id*0.9355618720384107', 'region*0.16333157898419318', 'light*0.14789545232533924', 'acid*0.128828791405795', 'sequence*0.11937407384990964']\n",
            "\n",
            "Top weighing words for topic_2 as below:\n",
            "['surface*0.38998872626182146', 'data*-0.2846065714582277', 'layer*0.26269270683429047', 'side*0.20320445455598088', 'system*-0.18489521205058768', 'form*0.17740151935950554', 'member*0.1651719640388992', 'element*0.1542632896293555', 'computer*-0.1527478275741295', 'material*0.14115546116893973', 'extend*0.13386415021442655', 'processor*-0.13211941217235143', 'medium*-0.12879697639945473', 'direction*0.12774148705806865', 'instruction*-0.12534706333514556', 'information*-0.12257208527507985', 'user*-0.11555596645410607', 'program*-0.11427667886334346', 'connect*0.10666758336104562', 'body*0.10206343062996764']\n",
            "\n",
            "Top weighing words for topic_3 as below:\n",
            "['signal*0.630075172423696', 'layer*-0.2847863113284503', 'system*-0.2580347418362308', 'control*0.19911840816404158', 'computer*-0.1846634792241123', 'medium*-0.14256881762048024', 'output*0.13649516387237656', 'voltage*0.13500186659271007', 'surface*-0.13203473297874868', 'program*-0.12947420325922757', 'configure*0.12451057391167689', 'instruction*-0.11717294404292944', 'acid*-0.1063593213559753', 'connect*0.10351852423250114', 'unit*0.10349365862897318', 'circuit*0.10137918441769778']\n",
            "\n",
            "Top weighing words for topic_4 as below:\n",
            "['layer*-0.44431633259311853', 'acid*-0.4074227107775825', 'group*-0.25052084826887083', 'signal*-0.22733177547804678', 'sequence*-0.18509303829796778', 'surface*0.18164738809140818', 'cell*-0.1651705380855738', 'member*0.16262359570784593', 'consist*-0.15219335218933278', 'weight*-0.15030698530053324', 'id*0.13406245298642913', 'element*0.1238961476190405', 'side*0.1220852408371398', 'thereof*-0.12201533738992423', 'composition*-0.11181883072918768', 'system*0.11130459095427284', 'material*-0.10750334508046337']\n",
            "\n",
            "Top weighing words for topic_5 as below:\n",
            "['layer*0.5592029036767069', 'data*0.5338188244269166', 'acid*-0.35318630984268606', 'system*-0.20344343772376713', 'group*-0.17751893391358972', 'sequence*-0.1759514019173644', 'cell*-0.1435766970239341', 'consist*-0.10520183495247361']\n",
            "\n",
            "Top weighing words for topic_6 as below:\n",
            "['data*0.6903431548804928', 'layer*-0.40056578442784135', 'system*-0.25937960872072063', 'acid*0.24065323601545127', 'signal*-0.15342841715203082', 'surface*0.12547601591834548', 'sequence*0.11898614222622887', 'group*0.11674390059036427', 'computer*-0.11106358967882046']\n",
            "\n",
            "Top weighing words for topic_7 as below:\n",
            "['system*0.7959135819584165', 'data*0.2051336641930506', 'plurality*-0.19829767850603788', 'signal*0.1748140306574935', 'apparatus*-0.16599611775557016', 'value*-0.15308847848529786', 'processor*-0.14625086261938408', 'medium*-0.14546777269480105', 'information*-0.12742694603572424', 'instruction*-0.10754500340490482', 'user*-0.10681152348547587', 'far*-0.1045932403695481', 'element*-0.10304465739043996', 'base*-0.10143732159543406', 'configure*-0.10004735057516204']\n",
            "\n",
            "Possible stop words here:  ['region', 'light', 'id', 'acid', 'sequence']\n",
            "=================================================================\n",
            "We are processing the year  2019 ...\n",
            "Running LSA model...\n",
            "LSA model finished.\n",
            "Top weighing words for topic_0 as below:\n",
            "['system*0.24525341760757563', 'configure*0.24521881132129686', 'data*0.24364003467400683', 'plurality*0.23411345281512388', 'base*0.19059345145563897', 'far*0.1901392263339843', 'signal*0.18140633843188433', 'control*0.14725238432537166', 'surface*0.1452290137549109', 'processor*0.1350156629616997', 'value*0.12828759159638187', 'medium*0.12520322230681108', 'information*0.12482330185667691', 'receive*0.12128754425282286', 'computer*0.12034846024245881', 'time*0.11370970027900547', 'instruction*0.1111168495837459', 'user*0.11048227789100708', 'element*0.10752878675040622', 'layer*0.10274148329683812', 'unit*0.10008878476796364']\n",
            "\n",
            "Top weighing words for topic_1 as below:\n",
            "['id*0.9317849628387949', 'sequence*0.20285834535913214', 'acid*0.18600512876211678']\n",
            "\n",
            "Top weighing words for topic_2 as below:\n",
            "['surface*-0.3993973893124551', 'data*0.28073629959189117', 'layer*-0.2717023523784619', 'side*-0.18759926031544877', 'system*0.17156901121418205', 'form*-0.1654162172261238', 'member*-0.1601686247722794', 'computer*0.15396208162831057', 'material*-0.15136252649961626', 'processor*0.14347278775888456', 'medium*0.14019047583005137', 'instruction*0.13665948254229546', 'element*-0.12594678953383992', 'direction*-0.12437780503105209', 'extend*-0.12145808047009415', 'information*0.10791664578190029', 'user*0.10615829504208153', 'connect*-0.10491454689546388', 'body*-0.10478546315241567']\n",
            "\n",
            "Top weighing words for topic_3 as below:\n",
            "['signal*0.6554789220171723', 'layer*-0.25760216657255225', 'control*0.2402356740695408', 'system*-0.2146315171008813', 'computer*-0.18053292876058696', 'medium*-0.15892063425733463', 'surface*-0.15182277247778037', 'configure*0.13156859444944727', 'instruction*-0.13034497139557238', 'output*0.11646869257544619', 'voltage*0.1133106806618852', 'nontransitory*-0.10534048360803', 'unit*0.10231327624069385', 'program*-0.10178803770544756']\n",
            "\n",
            "Top weighing words for topic_4 as below:\n",
            "['acid*0.42237661523854597', '1*0.39019556123288657', 'id*-0.26763622514915325', 'sequence*0.2575134253316864', 'group*0.2535931134317284', 'layer*0.20665486478796208', 'surface*-0.1922264360335268', 'cell*0.173958546059293', 'thereof*0.1594870428739569', 'consist*0.153794993102735', 'signal*0.13937979918152277', 'member*-0.13750814948678305', 'composition*0.11135114471174655', 'side*-0.10825235964150834', 'agent*0.10085617293135832']\n",
            "\n",
            "Top weighing words for topic_5 as below:\n",
            "['data*0.7125478525319019', 'layer*0.4824711578339483', 'system*-0.26799249682350235', '1*-0.11646340926753272', 'configure*-0.11409133474485428', 'acid*-0.10698763056062509', 'computer*-0.10616508463992917']\n",
            "\n",
            "Top weighing words for topic_6 as below:\n",
            "['layer*-0.6268688257263217', 'data*0.500336118178487', 'signal*-0.20897135060723385', '1*0.20866287639346606', 'acid*0.18737879337467667', 'surface*0.1406697405127193', 'sequence*0.13686395179757893', 'member*0.1266334613466136', 'material*-0.10543762215212028', 'system*-0.10155574173518862']\n",
            "\n",
            "Top weighing words for topic_7 as below:\n",
            "['1*0.8680689200475727', 'acid*-0.3262651126027145', 'sequence*-0.23154563782538334', 'id*0.12038842195863625', 'group*-0.11668731556215134', 'cell*-0.1049036568151256']\n",
            "\n",
            "Possible stop words here:  ['acid', 'sequence', 'id']\n",
            "=================================================================\n",
            "We are processing the year  2020 ...\n",
            "Running LSA model...\n",
            "LSA model finished.\n",
            "Top weighing words for topic_0 as below:\n",
            "['data*0.25597839351846574', 'configure*0.2551953613603293', 'system*0.2467287767201739', 'plurality*0.23244950928998206', 'base*0.19687268684738168', 'far*0.19669796540205056', 'signal*0.16735388562779738', 'processor*0.1452714706190498', 'surface*0.14060036882433863', 'value*0.13201814488928743', 'control*0.1307798528896265', 'medium*0.1274911892313059', 'information*0.1273110200039626', 'computer*0.12159841839438887', 'instruction*0.11256397258903801', 'time*0.11154424853997097', 'receive*0.11050395618310327', 'user*0.10833562006082895', 'layer*0.10503719687450387']\n",
            "\n",
            "Top weighing words for topic_1 as below:\n",
            "['id*0.914305520458333', 'region*0.2200835204115523', 'light*0.19624788170199653', 'sequence*0.10734031265162938', '1*0.10424817638919463']\n",
            "\n",
            "Top weighing words for topic_2 as below:\n",
            "['1*0.543009714338471', 'surface*0.30697224374091037', 'data*-0.24121610542665434', 'id*-0.21705707303822797', 'layer*0.21502187339658357', 'side*0.14750075337850505', 'system*-0.14581427812570713', 'member*0.13399781689991924', 'form*0.12989339230818067', 'processor*-0.12498989837380452', 'computer*-0.12414865803186768', 'medium*-0.1181938192361862', 'material*0.11543096256849317', 'instruction*-0.1107246084122341', 'direction*0.10842535594318152']\n",
            "\n",
            "Top weighing words for topic_3 as below:\n",
            "['1*0.814272107507858', 'surface*-0.24012602846937003', 'layer*-0.1478673702521676', 'data*0.13771310000690562', 'side*-0.12186277497798673', 'member*-0.11042870453481819']\n",
            "\n",
            "Top weighing words for topic_4 as below:\n",
            "['signal*0.5933142527884984', 'system*-0.28996210376642106', 'layer*-0.23833216062124477', 'control*0.22680248153696186', 'computer*-0.19052595009042833', 'medium*-0.1830491433418306', 'voltage*0.16210544649318748', 'surface*-0.15230811770711808', 'instruction*-0.1435370111724908', 'nontransitory*-0.1307824927261633', 'output*0.12639818089431976', 'configure*0.12287752732783924', 'value*0.12189251635252465', 'processor*-0.11899643035899654', 'program*-0.11312364064648318', 'sensor*0.10807081757926057', 'unit*0.10349191286917007']\n",
            "\n",
            "Top weighing words for topic_5 as below:\n",
            "['acid*-0.44257755114441594', 'layer*-0.3343875855560978', 'cell*-0.3144104724309029', 'sequence*-0.2759425852892445', 'group*-0.25232314194752237', 'member*0.16434064007781343', 'consist*-0.16190426708451908', 'thereof*-0.15376642335740556', 'surface*0.1529911230944616', 'composition*-0.14557399475893512', 'agent*-0.14538995161671506', 'id*0.14440403396287424', '1*0.14347183536215471', 'configure*0.12248561155067707', 'side*0.10281648331565732']\n",
            "\n",
            "Top weighing words for topic_6 as below:\n",
            "['data*0.8228671860074311', 'layer*0.29079347871554695', 'system*-0.25011272019468117', 'signal*-0.1558953700039367', 'configure*-0.12202935723545977', 'processor*-0.11145135421039129', 'acid*-0.10178055578261602']\n",
            "\n",
            "Top weighing words for topic_7 as below:\n",
            "['layer*0.711719268418742', 'acid*-0.2822604823791749', 'data*-0.2674871514230154', 'signal*0.20792988736290471', 'sequence*-0.18837836997296528', 'cell*-0.1845874893307276', 'member*-0.15481954493940228', 'group*-0.11995277913199587', 'surface*-0.11914504365225399']\n",
            "\n",
            "Possible stop words here:  ['1', 'region', 'light', 'id', 'sequence']\n",
            "=================================================================\n",
            "We are processing the year  2021 ...\n",
            "Running LSA model...\n",
            "LSA model finished.\n",
            "Top weighing words for topic_0 as below:\n",
            "['id*0.8376186851138259', 'sequence*0.21668765754809824', 'acid*0.17303306395050835', 'region*0.1473785440607034', 'light*0.13269393724605738']\n",
            "\n",
            "Top weighing words for topic_1 as below:\n",
            "['id*0.4088418591180141', 'data*-0.2529967612348094', 'configure*-0.23857277255126683', 'system*-0.23200398534647046', 'plurality*-0.21247592688566236', 'base*-0.18691589295338745', 'far*-0.18298699778606853', 'signal*-0.15250056439195675', 'processor*-0.14600104029506794', 'medium*-0.13113202446461186', 'surface*-0.12543044674236933', 'control*-0.11926936137072836', 'value*-0.11430656616900771', 'computer*-0.11427291613606554', 'information*-0.11305136326152299', 'instruction*-0.11016056062967787', 'time*-0.10948533378666372']\n",
            "\n",
            "Top weighing words for topic_2 as below:\n",
            "['surface*0.3354178597406958', 'data*-0.30519321399711524', 'layer*0.2324805514106008', 'member*0.18335463556022502', 'acid*0.17985550880118784', 'system*-0.17300498009038698', 'side*0.17095909479584423', 'processor*-0.16021666676239243', 'medium*-0.14746270359939337', 'computer*-0.13962491027946583', 'form*0.13864255453395252', 'instruction*-0.13503035526361062', 'third*0.12931576665808991', 'id*-0.12714658260824135', 'composition*0.12637910550350787', 'thereof*0.12413924264585596', 'group*0.1230507987746088', 'material*0.12070199280662823', 'nontransitory*-0.11585017359099689', 'direction*0.11238800249021713', 'along*0.10112179978906989', 'extend*0.10010300338090415']\n",
            "\n",
            "Top weighing words for topic_3 as below:\n",
            "['acid*0.4832147533938864', 'composition*0.2916506426175247', 'sequence*0.2808734662795168', 'group*0.2541965730333867', 'id*-0.22202515648350676', 'surface*-0.22031744039490278', 'thereof*0.21797786674702502', 'consist*0.19452448575449457', 'cell*0.15973809485995522', 'layer*-0.14677120698854157', 'mixture*0.1342281184860337', 'time*0.13155614355098424', 'side*-0.12107047185922015', 'plurality*-0.10635380146264803', 'range*0.1023782307543889']\n",
            "\n",
            "Top weighing words for topic_4 as below:\n",
            "['signal*0.5742492890430311', 'layer*-0.2997461877515252', 'system*-0.2599254688857748', 'control*0.20616472223049895', 'medium*-0.18958549840719316', 'surface*-0.18304111182052407', 'power*0.17271288650506597', 'computer*-0.1661511908943358', 'configure*0.1471081255437205', 'circuit*0.14472685364110696', 'instruction*-0.1413524021506964', 'nontransitory*-0.13956861132091788', 'voltage*0.1367424083514202', 'output*0.13556031392504486', 'processor*-0.11899132011509819', 'unit*0.10253945998639874']\n",
            "\n",
            "Top weighing words for topic_5 as below:\n",
            "['data*0.8530400787077452', 'layer*0.24040627715833895', 'system*-0.1885850530478226', 'processor*-0.15143657337288394', 'configure*-0.1491633185715108', 'far*-0.12239751004442993', 'signal*-0.11813254844888575', 'medium*-0.11753406177988934', 'instruction*-0.11298530365786905', 'computer*-0.10115390458784174']\n",
            "\n",
            "Top weighing words for topic_6 as below:\n",
            "['layer*-0.7730815371051212', 'signal*-0.23657535520931866', 'member*0.2361568027111518', 'surface*0.22389072295075352', 'data*0.19213661714979458', 'side*0.11775484676576288']\n",
            "\n",
            "Top weighing words for topic_7 as below:\n",
            "['sequence*-0.5891831410950918', 'cell*-0.2917600704800931', 'plurality*-0.25821231348947077', 'member*0.23403235001873024', 'group*0.21509352426720602', 'time*0.2109773676385035', 'acid*-0.20617037519958561', 'composition*0.17659807974878924', 'thereof*0.1726950482143452', 'mixture*0.15954976540146182', 'id*0.15197975153437884', 'third*0.14587742970787185', 'range*0.14558501032254834', 'period*0.14142778844650894', 'consist*0.13648863178693668', 'system*-0.12836438480149426', 'along*0.10593801443816225']\n",
            "\n",
            "Possible stop words here:  ['processor', 'far', 'value', 'data', 'instruction', 'surface', 'information', 'base', 'time', 'medium', 'configure', 'computer', 'control', 'system', 'id', 'signal', 'plurality']\n",
            "=================================================================\n",
            "We are processing the year  2022 ...\n",
            "Running LSA model...\n",
            "LSA model finished.\n",
            "Top weighing words for topic_0 as below:\n",
            "['configure*0.26467556200482756', 'data*0.25498207051861416', 'system*0.23848809820638328', 'plurality*0.22785594346056093', 'base*0.20747455508214308', 'far*0.19784807737035803', 'processor*0.15923384000653773', 'signal*0.15781967301213148', 'surface*0.13841655637410358', 'value*0.13475209924536863', 'medium*0.13366006443549114', 'control*0.13301658816474282', 'information*0.12134195194054098', 'instruction*0.12013585317187386', 'computer*0.11444559975152764', 'layer*0.11209667151183467', 'time*0.11028215464849492', 'receive*0.10056188488243843']\n",
            "\n",
            "Top weighing words for topic_1 as below:\n",
            "['acid*0.7264204680714713', 'id*0.39311711179553077', 'sequence*0.28566361981307664', 'group*0.15343705299052654', 'cell*0.1457835934355735', 'consist*0.1263957579351423', 'data*-0.1254745974828027', 'thereof*0.11938800651039351', 'composition*0.10458866169005006']\n",
            "\n",
            "Top weighing words for topic_2 as below:\n",
            "['surface*-0.38850753753259487', 'layer*-0.30207860077146415', 'data*0.2457470511083659', 'acid*0.19842372366142666', 'side*-0.19192342250790062', 'direction*-0.15415477604446481', 'system*0.15332393400241906', 'processor*0.15248693049123396', 'form*-0.15227178626076307', 'member*-0.1505718784989854', 'medium*0.14025531773305794', 'instruction*0.13197661635640795', 'connect*-0.1309481096430969', 'computer*0.12480152745610704', 'element*-0.12333144373023962', 'material*-0.1226838474904559', 'id*0.1125007180405004', 'extend*-0.11118919670797822', 'nontransitory*0.10755224211783104']\n",
            "\n",
            "Top weighing words for topic_3 as below:\n",
            "['signal*-0.39712340754853087', 'id*-0.37395708814691137', 'acid*0.3135790521245099', 'layer*0.3123308419528425', 'system*0.2439214634053595', 'data*-0.19549641092654688', 'medium*0.19217576093093192', 'computer*0.1708382443630461', 'control*-0.1630841834461658', 'instruction*0.16194360276547665', 'processor*0.14670757614136468', 'sequence*-0.14408695936301041', 'nontransitory*0.1421112238975858', 'value*-0.13763210142267257', 'surface*0.11204538118027325', 'cause*0.10808498967542868', 'far*0.1043813013015219', 'cell*-0.10173380670258914', 'computerreadable*0.10138441935213968', 'program*0.1006815098270376']\n",
            "\n",
            "Top weighing words for topic_4 as below:\n",
            "['id*-0.5291221197314926', 'acid*0.4864476823121251', 'data*0.4505529380227186', 'sequence*-0.20177522856739777', 'signal*0.15414635373025676', 'system*-0.1469493456413923', 'cell*-0.14055801438192064', 'medium*-0.11949684992890479', 'computer*-0.1070521240253587', 'instruction*-0.10631384286837658', 'processor*-0.10521811732833933']\n",
            "\n",
            "Top weighing words for topic_5 as below:\n",
            "['layer*-0.5935683738677209', 'data*-0.5894944741536495', 'configure*0.23033823308103743', 'acid*0.1801675530805686', 'signal*0.1558565881041777', 'id*-0.15549435999612293', 'member*0.1122277291474355']\n",
            "\n",
            "Top weighing words for topic_6 as below:\n",
            "['layer*-0.5103330506858709', 'signal*-0.4123643997738791', 'data*0.39616216259593134', 'surface*0.2942911658455317', 'id*0.1844812926088123', 'member*0.15882937908383224', 'value*-0.15555822855397483', 'system*0.14119836557329582', 'side*0.10832025049582496', 'control*-0.10650276728807417']\n",
            "\n",
            "Top weighing words for topic_7 as below:\n",
            "['system*0.7639266900451331', 'plurality*-0.2088206531704619', 'processor*-0.1838467931707042', 'id*-0.16060067412583634', 'medium*-0.1451465184775735', 'group*0.14426184010308632', 'instruction*-0.12936921915890134', 'thereof*0.11973573569733227', 'nontransitory*-0.11908053835164881', 'apparatus*-0.11883024929500825', 'composition*0.10390302246229528']\n",
            "\n",
            "Possible stop words here:  ['data', 'consist', 'composition', 'cell', 'id', 'thereof', 'acid', 'sequence', 'group']\n",
            "=================================================================\n"
          ]
        }
      ]
    },
    {
      "cell_type": "code",
      "source": [],
      "metadata": {
        "id": "4z10FLMSaIzW"
      },
      "execution_count": null,
      "outputs": []
    }
  ]
}