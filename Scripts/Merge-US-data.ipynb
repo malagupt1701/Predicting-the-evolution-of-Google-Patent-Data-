{
 "cells": [
  {
   "cell_type": "code",
   "execution_count": 18,
   "id": "f54a44e5",
   "metadata": {},
   "outputs": [],
   "source": [
    "import os\n",
    "import pandas as pd\n",
    "import boto3\n",
    "from smart_open import smart_open\n",
    "\n",
    "access_key_id  = '.'\n",
    "secret_access_key = '.'\n",
    "\n",
    "session = boto3.Session(aws_access_key_id=access_key_id, aws_secret_access_key=secret_access_key)\n",
    "resources = session.resource('s3')\n",
    "\n",
    "s3 = session.client('s3')\n",
    "my_bucket = resources.Bucket('capstone-storage')\n"
   ]
  },
  {
   "cell_type": "markdown",
   "id": "0f847aa7",
   "metadata": {},
   "source": [
    "## 2018"
   ]
  },
  {
   "cell_type": "code",
   "execution_count": 9,
   "id": "0b09957e",
   "metadata": {},
   "outputs": [],
   "source": [
    "response = s3.list_objects_v2(Bucket='capstone-storage', Prefix = 'cleaned_data_with_description/2018/')\n",
    "files = response.get(\"Contents\")\n",
    "\n",
    "locs = []\n",
    "for file in files:\n",
    "    if file['Key'].endswith('.csv'):\n",
    "        locs.append(file['Key'])\n",
    "\n",
    "path_name = 'capstone-storage'\n",
    "\n",
    "\n",
    "df_2018 = pd.DataFrame()\n",
    "\n",
    "for i in range(len(locs)):\n",
    "    path = 's3://{}:{}@{}/{}'.format(access_key_id, secret_access_key, path_name, locs[i])\n",
    "    df = pd.read_csv(smart_open(path))\n",
    "    df = df[df['Org_Country']=='US']\n",
    "    df_2018 = pd.concat([df_2018, df], ignore_index=True)\n",
    "    "
   ]
  },
  {
   "cell_type": "code",
   "execution_count": 12,
   "id": "1cda95a5",
   "metadata": {},
   "outputs": [],
   "source": [
    "df_2018.to_csv('Final_data/2018-data-merged.csv',index=False)"
   ]
  },
  {
   "cell_type": "markdown",
   "id": "57880fcd",
   "metadata": {},
   "source": [
    "## 2019"
   ]
  },
  {
   "cell_type": "code",
   "execution_count": null,
   "id": "974270af",
   "metadata": {},
   "outputs": [],
   "source": [
    "response = s3.list_objects_v2(Bucket='capstone-storage', Prefix = 'cleaned_data_with_description/2019/')\n",
    "files = response.get(\"Contents\")\n",
    "\n",
    "locs = []\n",
    "for file in files:\n",
    "    if file['Key'].endswith('.csv'):\n",
    "        locs.append(file['Key'])\n",
    "\n",
    "path_name = 'capstone-storage'\n",
    "\n",
    "\n",
    "df = pd.DataFrame()\n",
    "\n",
    "for i in range(len(locs)):\n",
    "    path = 's3://{}:{}@{}/{}'.format(access_key_id, secret_access_key, path_name, locs[i])\n",
    "    temp = pd.read_csv(smart_open(path))\n",
    "    temp = temp[temp['Org_Country']=='US']\n",
    "    df = pd.concat([df, temp], ignore_index=True)\n",
    "    \n",
    "df.to_csv('Final_data/2019-data-merged.csv',index=False)"
   ]
  },
  {
   "cell_type": "markdown",
   "id": "6edcdadc",
   "metadata": {},
   "source": [
    "## 2020"
   ]
  },
  {
   "cell_type": "code",
   "execution_count": 14,
   "id": "a1609c66",
   "metadata": {},
   "outputs": [],
   "source": [
    "response = s3.list_objects_v2(Bucket='capstone-storage', Prefix = 'cleaned_data_with_description/2020/')\n",
    "files = response.get(\"Contents\")\n",
    "\n",
    "locs = []\n",
    "for file in files:\n",
    "    if file['Key'].endswith('.csv'):\n",
    "        locs.append(file['Key'])\n",
    "\n",
    "path_name = 'capstone-storage'\n",
    "\n",
    "\n",
    "df = pd.DataFrame()\n",
    "\n",
    "for i in range(len(locs)):\n",
    "    path = 's3://{}:{}@{}/{}'.format(access_key_id, secret_access_key, path_name, locs[i])\n",
    "    temp = pd.read_csv(smart_open(path))\n",
    "    temp = temp[temp['Org_Country']=='US']\n",
    "    df = pd.concat([df, temp], ignore_index=True)\n",
    "    \n",
    "df.to_csv('Final_data/2020-data-merged.csv',index=False)"
   ]
  },
  {
   "cell_type": "markdown",
   "id": "f8abda49",
   "metadata": {},
   "source": [
    "## 2021"
   ]
  },
  {
   "cell_type": "code",
   "execution_count": null,
   "id": "d96d4fe7",
   "metadata": {},
   "outputs": [],
   "source": [
    "response = s3.list_objects_v2(Bucket='capstone-storage', Prefix = 'cleaned_data_with_description/2021/')\n",
    "files = response.get(\"Contents\")\n",
    "\n",
    "locs = []\n",
    "for file in files:\n",
    "    if file['Key'].endswith('.csv'):\n",
    "        locs.append(file['Key'])\n",
    "\n",
    "path_name = 'capstone-storage'\n",
    "\n",
    "\n",
    "df = pd.DataFrame()\n",
    "\n",
    "for i in range(len(locs)):\n",
    "    path = 's3://{}:{}@{}/{}'.format(access_key_id, secret_access_key, path_name, locs[i])\n",
    "    temp = pd.read_csv(smart_open(path))\n",
    "    temp = temp[temp['Org_Country']=='US']\n",
    "    df = pd.concat([df, temp], ignore_index=True)\n",
    "    \n",
    "df.to_csv('Final_data/2021-data-merged.csv',index=False)"
   ]
  },
  {
   "cell_type": "markdown",
   "id": "ca6aae98",
   "metadata": {},
   "source": [
    "## 2022"
   ]
  },
  {
   "cell_type": "code",
   "execution_count": 15,
   "id": "42cb2a44",
   "metadata": {},
   "outputs": [],
   "source": [
    "response = s3.list_objects_v2(Bucket='capstone-storage', Prefix = 'cleaned_data_with_description/2022/')\n",
    "files = response.get(\"Contents\")\n",
    "\n",
    "locs = []\n",
    "for file in files:\n",
    "    if file['Key'].endswith('.csv'):\n",
    "        locs.append(file['Key'])\n",
    "\n",
    "path_name = 'capstone-storage'\n",
    "\n",
    "\n",
    "df = pd.DataFrame()\n",
    "\n",
    "for i in range(len(locs)):\n",
    "    path = 's3://{}:{}@{}/{}'.format(access_key_id, secret_access_key, path_name, locs[i])\n",
    "    temp = pd.read_csv(smart_open(path))\n",
    "    temp = temp[temp['Org_Country']=='US']\n",
    "    df = pd.concat([df, temp], ignore_index=True)\n",
    "    \n",
    "df.to_csv('Final_data/2022-data-merged.csv',index=False)"
   ]
  },
  {
   "cell_type": "code",
   "execution_count": null,
   "id": "d2083964",
   "metadata": {},
   "outputs": [],
   "source": []
  }
 ],
 "metadata": {
  "kernelspec": {
   "display_name": "Python 3",
   "language": "python",
   "name": "python3"
  },
  "language_info": {
   "codemirror_mode": {
    "name": "ipython",
    "version": 3
   },
   "file_extension": ".py",
   "mimetype": "text/x-python",
   "name": "python",
   "nbconvert_exporter": "python",
   "pygments_lexer": "ipython3",
   "version": "3.8.8"
  }
 },
 "nbformat": 4,
 "nbformat_minor": 5
}
