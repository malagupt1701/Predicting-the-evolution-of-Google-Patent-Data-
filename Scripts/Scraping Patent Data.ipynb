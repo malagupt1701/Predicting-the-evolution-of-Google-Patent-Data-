{
 "cells": [
  {
   "cell_type": "markdown",
   "metadata": {},
   "source": [
    "# Scraping Patent Data\n",
    "- Website: https://bulkdata.uspto.gov/\n",
    "- Scraping Patent Grant Full Text Data (No Images)\n",
    "- Downloading data corresponding to years 2018-2022"
   ]
  },
  {
   "cell_type": "code",
   "execution_count": 1,
   "metadata": {},
   "outputs": [],
   "source": [
    "from selenium import webdriver\n",
    "import zipfile\n",
    "import os\n",
    "import time"
   ]
  },
  {
   "cell_type": "code",
   "execution_count": 2,
   "metadata": {},
   "outputs": [],
   "source": [
    "# Function to download zip files yearwise.\n",
    "def download_zip_yearwise(year):\n",
    "    \n",
    "    # Change directory accordingly\n",
    "    prefs = {'download.default_directory' : f'/Users/arunitmaity/Desktop/Capstone Project/Zip Data/{year}'}\n",
    "    chrome_options = webdriver.ChromeOptions()\n",
    "    chrome_options.add_experimental_option('prefs', prefs)\n",
    "    \n",
    "    # Change the path for chrome driver accordingly\n",
    "    driver = webdriver.Chrome(options=chrome_options,\n",
    "                              executable_path='/Users/arunitmaity/Desktop/Capstone Project/Scripts/chromedriver')\n",
    "    \n",
    "    # Patent data website\n",
    "    driver.get(f'https://bulkdata.uspto.gov/data/patent/grant/redbook/fulltext/{year}/')\n",
    "    \n",
    "    # Extracting the zip files by making use of partial_link_text\n",
    "    links = driver.find_elements_by_partial_link_text('ipg')\n",
    "    \n",
    "    # Only 10 parallel downloads at a time to avoid download failure\n",
    "    count = 0\n",
    "    for link in links:\n",
    "        link.click()\n",
    "        count+=1\n",
    "        if count == 10:\n",
    "            driver.implicitly_wait(60)\n",
    "            count = 0"
   ]
  },
  {
   "cell_type": "code",
   "execution_count": 3,
   "outputs": [
    {
     "name": "stdout",
     "output_type": "stream",
     "text": [
      "Download Time :  00h46m19s\n"
     ]
    }
   ],
   "source": [
    "start = time.time()\n",
    "years = range(2018, 2023)\n",
    "for year in years:\n",
    "    os.makedirs(f'/Users/arunitmaity/Desktop/Capstone Project/Zip Data/{year}')\n",
    "    download_zip_yearwise(year)\n",
    "elapsed = (time.time() - start)\n",
    "print(\"Download Time : \", time.strftime(\"%Hh%Mm%Ss\", time.gmtime(elapsed)))"
   ],
   "metadata": {
    "collapsed": false
   }
  },
  {
   "cell_type": "markdown",
   "source": [
    "## Unzipping (need to change to directly unzip to S3 bucket)"
   ],
   "metadata": {
    "collapsed": false
   }
  },
  {
   "cell_type": "code",
   "execution_count": null,
   "metadata": {},
   "outputs": [],
   "source": [
    "# Creating a function to unzip folders yearwise. The function takes year as an argument\n",
    "\n",
    "def unzip_yearwise(year):\n",
    "    # Change directory accordingly\n",
    "    paths = os.listdir(f'/Users/arunitmaity/Desktop/Capstone Project/Zip Folder/{year}')\n",
    "    \n",
    "    for path in paths:\n",
    "        # Change directory accordingly\n",
    "        with zipfile.ZipFile(f'/Users/arunitmaity/Desktop/Capstone Project/Zip Folder/{year}/' + path, 'r') as zip_ref:\n",
    "            zip_ref.extractall(f'/Users/arunitmaity/Desktop/Capstone Project/Unzipped Folder/{year}')"
   ]
  },
  {
   "cell_type": "code",
   "execution_count": null,
   "metadata": {},
   "outputs": [],
   "source": [
    "#unzip_yearwise(2018)"
   ]
  }
 ],
 "metadata": {
  "kernelspec": {
   "display_name": "Python 3",
   "language": "python",
   "name": "python3"
  },
  "language_info": {
   "codemirror_mode": {
    "name": "ipython",
    "version": 3
   },
   "file_extension": ".py",
   "mimetype": "text/x-python",
   "name": "python",
   "nbconvert_exporter": "python",
   "pygments_lexer": "ipython3",
   "version": "3.8.8"
  }
 },
 "nbformat": 4,
 "nbformat_minor": 4
}
