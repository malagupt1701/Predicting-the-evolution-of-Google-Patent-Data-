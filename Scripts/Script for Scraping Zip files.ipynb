{
 "cells": [
  {
   "cell_type": "code",
   "execution_count": 50,
   "metadata": {},
   "outputs": [],
   "source": [
    "from selenium import webdriver\n",
    "chrome_options = webdriver.ChromeOptions()"
   ]
  },
  {
   "cell_type": "code",
   "execution_count": 51,
   "metadata": {},
   "outputs": [],
   "source": [
    "# Change path accordingly\n",
    "import zipfile\n",
    "import os\n",
    "\n",
    "# Creating a function to download zips yearwise. The function takes year as an argument\n",
    "def download_zip_yearwise(year):\n",
    "    \n",
    "    # Change directory accordingly\n",
    "    prefs = {'download.default_directory' : f'/Users/shabeggill/Desktop/Capstone Project/Zip Folder/{year}'}\n",
    "    chrome_options.add_experimental_option('prefs', prefs)\n",
    "    \n",
    "    # Change the path for chrome driver accordinghly\n",
    "    driver = webdriver.Chrome(chrome_options=chrome_options, executable_path='/Users/shabeggill/Downloads/chromedriver 3')\n",
    "    \n",
    "    # Patent data website\n",
    "    driver.get(f'https://bulkdata.uspto.gov/data/patent/grant/redbook/fulltext/{year}/')\n",
    "    \n",
    "    # Extracting the zip files by making use of partial_link_text\n",
    "    links = driver.find_elements_by_partial_link_text('ipg')\n",
    "    \n",
    "    # Change to for loop\n",
    "    count = 0\n",
    "    for link in links:\n",
    "        link.click()\n",
    "        count+=1\n",
    "        if count == 10:\n",
    "            driver.implicity_wait(60)\n",
    "            count = 0"
   ]
  },
  {
   "cell_type": "code",
   "execution_count": 52,
   "metadata": {},
   "outputs": [
    {
     "name": "stderr",
     "output_type": "stream",
     "text": [
      "/Users/shabeggill/anaconda3/lib/python3.7/site-packages/ipykernel_launcher.py:7: DeprecationWarning: use options instead of chrome_options\n",
      "  import sys\n"
     ]
    }
   ],
   "source": [
    "download_zip_yearwise(2018)"
   ]
  },
  {
   "cell_type": "code",
   "execution_count": 55,
   "metadata": {},
   "outputs": [],
   "source": [
    "# Creating a function to unzip folders yearwise. The function takes year as an argument\n",
    "\n",
    "def unzip_yearwise(year):\n",
    "    # Change directory accordingly\n",
    "    paths = os.listdir(f'/Users/shabeggill/Desktop/Capstone Project/Zip Folder/{year}')\n",
    "    \n",
    "    for path in paths:\n",
    "        # Change directory accordingly\n",
    "        with zipfile.ZipFile(f'/Users/shabeggill/Desktop/Capstone Project/Zip Folder/{year}/' + path, 'r') as zip_ref:\n",
    "            zip_ref.extractall(f'/Users/shabeggill/Desktop/Capstone Project/Unzipped Folder/{year}')"
   ]
  },
  {
   "cell_type": "code",
   "execution_count": 56,
   "metadata": {},
   "outputs": [],
   "source": [
    "unzip_yearwise(2018)"
   ]
  }
 ],
 "metadata": {
  "kernelspec": {
   "display_name": "Python 3",
   "language": "python",
   "name": "python3"
  },
  "language_info": {
   "codemirror_mode": {
    "name": "ipython",
    "version": 3
   },
   "file_extension": ".py",
   "mimetype": "text/x-python",
   "name": "python",
   "nbconvert_exporter": "python",
   "pygments_lexer": "ipython3",
   "version": "3.7.3"
  }
 },
 "nbformat": 4,
 "nbformat_minor": 4
}
