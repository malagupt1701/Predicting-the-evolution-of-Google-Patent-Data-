{
  "nbformat": 4,
  "nbformat_minor": 0,
  "metadata": {
    "colab": {
      "provenance": []
    },
    "kernelspec": {
      "name": "python3",
      "display_name": "Python 3"
    },
    "language_info": {
      "name": "python"
    },
    "accelerator": "GPU",
    "gpuClass": "standard"
  },
  "cells": [
    {
      "cell_type": "code",
      "execution_count": 2,
      "metadata": {
        "colab": {
          "base_uri": "https://localhost:8080/"
        },
        "id": "1HW_-tuSbKft",
        "outputId": "ea1401ed-ba68-4756-bfc5-a172f03bd920"
      },
      "outputs": [
        {
          "output_type": "stream",
          "name": "stdout",
          "text": [
            "Mounted at /content/drive/\n"
          ]
        }
      ],
      "source": [
        "from google.colab import drive\n",
        "drive.mount('/content/drive/')"
      ]
    },
    {
      "cell_type": "code",
      "source": [
        "%cd /content/drive/My Drive/Capstone Project/Capstone Data with claims/"
      ],
      "metadata": {
        "colab": {
          "base_uri": "https://localhost:8080/"
        },
        "id": "sjSyra-rbO4x",
        "outputId": "55238f63-8bb4-4af4-e6e0-692e352c43a0"
      },
      "execution_count": 3,
      "outputs": [
        {
          "output_type": "stream",
          "name": "stdout",
          "text": [
            "/content/drive/.shortcut-targets-by-id/12YzA2-Elb7PbRcwTgROITmiZxg5xZQdz/Capstone Project/Capstone Data with claims\n"
          ]
        }
      ]
    },
    {
      "cell_type": "code",
      "source": [
        "ls"
      ],
      "metadata": {
        "colab": {
          "base_uri": "https://localhost:8080/"
        },
        "id": "6a4izHOwZwhn",
        "outputId": "1d9c2fdc-7ba0-41c6-903c-5737bd9d7610"
      },
      "execution_count": 4,
      "outputs": [
        {
          "output_type": "stream",
          "name": "stdout",
          "text": [
            "2018-data-merged.csv  demo_matrix_file.csv     outer_list.pkl\n",
            "2019-data-merged.csv  ldavis_prepared_20       output.csv\n",
            "2020-data-merged.csv  ldavis_prepared_20.html  tf_idf_final.pkl\n",
            "2021-data-merged.csv  lsa_model_2018.pkl       Topics-2018-data-merged.csv\n",
            "2022-data-merged.csv  lsa_model_2019.pkl       Topics-2019-data-merged.csv\n",
            "allyears_all_new.pkl  lsa_model_2020.pkl       Topics-2020-data-merged.csv\n",
            "allyears_all.pkl      out-corpus-tfidf.csv     Topics-2021-data-merged.csv\n",
            "corpus_tf_idf.pkl     out.csv                  Topics-2022-data-merged.csv\n"
          ]
        }
      ]
    },
    {
      "cell_type": "code",
      "source": [
        "import pandas as pd\n",
        "import ast\n",
        "import pickle\n",
        "from sklearn.decomposition import TruncatedSVD\n",
        "import numpy as np"
      ],
      "metadata": {
        "id": "_-M6aOD_bi5J"
      },
      "execution_count": 5,
      "outputs": []
    },
    {
      "cell_type": "code",
      "source": [
        "ls"
      ],
      "metadata": {
        "colab": {
          "base_uri": "https://localhost:8080/"
        },
        "id": "Zoq7LfThoKA1",
        "outputId": "e5a81885-dbf6-4e8b-c1e5-51b070197a21"
      },
      "execution_count": 6,
      "outputs": [
        {
          "output_type": "stream",
          "name": "stdout",
          "text": [
            "2018-data-merged.csv  demo_matrix_file.csv     outer_list.pkl\n",
            "2019-data-merged.csv  ldavis_prepared_20       output.csv\n",
            "2020-data-merged.csv  ldavis_prepared_20.html  tf_idf_final.pkl\n",
            "2021-data-merged.csv  lsa_model_2018.pkl       Topics-2018-data-merged.csv\n",
            "2022-data-merged.csv  lsa_model_2019.pkl       Topics-2019-data-merged.csv\n",
            "allyears_all_new.pkl  lsa_model_2020.pkl       Topics-2020-data-merged.csv\n",
            "allyears_all.pkl      out-corpus-tfidf.csv     Topics-2021-data-merged.csv\n",
            "corpus_tf_idf.pkl     out.csv                  Topics-2022-data-merged.csv\n"
          ]
        }
      ]
    },
    {
      "cell_type": "code",
      "source": [
        "!pip install pyLDAvis\n",
        "\n",
        "!pip install pyLDAvis.gensim"
      ],
      "metadata": {
        "colab": {
          "base_uri": "https://localhost:8080/"
        },
        "id": "GRd24m6UoctZ",
        "outputId": "2e9e27e6-5fa8-43e6-9aba-b51a198ecf68"
      },
      "execution_count": 7,
      "outputs": [
        {
          "output_type": "stream",
          "name": "stdout",
          "text": [
            "Looking in indexes: https://pypi.org/simple, https://us-python.pkg.dev/colab-wheels/public/simple/\n",
            "Collecting pyLDAvis\n",
            "  Downloading pyLDAvis-3.3.1.tar.gz (1.7 MB)\n",
            "\u001b[K     |████████████████████████████████| 1.7 MB 18.3 MB/s \n",
            "\u001b[?25h  Installing build dependencies ... \u001b[?25l\u001b[?25hdone\n",
            "  Getting requirements to build wheel ... \u001b[?25l\u001b[?25hdone\n",
            "  Installing backend dependencies ... \u001b[?25l\u001b[?25hdone\n",
            "    Preparing wheel metadata ... \u001b[?25l\u001b[?25hdone\n",
            "Requirement already satisfied: scipy in /usr/local/lib/python3.7/dist-packages (from pyLDAvis) (1.7.3)\n",
            "Requirement already satisfied: jinja2 in /usr/local/lib/python3.7/dist-packages (from pyLDAvis) (2.11.3)\n",
            "Requirement already satisfied: numexpr in /usr/local/lib/python3.7/dist-packages (from pyLDAvis) (2.8.4)\n",
            "Collecting sklearn\n",
            "  Downloading sklearn-0.0.post1.tar.gz (3.6 kB)\n",
            "Requirement already satisfied: future in /usr/local/lib/python3.7/dist-packages (from pyLDAvis) (0.16.0)\n",
            "Requirement already satisfied: setuptools in /usr/local/lib/python3.7/dist-packages (from pyLDAvis) (57.4.0)\n",
            "Requirement already satisfied: scikit-learn in /usr/local/lib/python3.7/dist-packages (from pyLDAvis) (1.0.2)\n",
            "Requirement already satisfied: joblib in /usr/local/lib/python3.7/dist-packages (from pyLDAvis) (1.2.0)\n",
            "Requirement already satisfied: pandas>=1.2.0 in /usr/local/lib/python3.7/dist-packages (from pyLDAvis) (1.3.5)\n",
            "Collecting funcy\n",
            "  Downloading funcy-1.17-py2.py3-none-any.whl (33 kB)\n",
            "Requirement already satisfied: numpy>=1.20.0 in /usr/local/lib/python3.7/dist-packages (from pyLDAvis) (1.21.6)\n",
            "Requirement already satisfied: gensim in /usr/local/lib/python3.7/dist-packages (from pyLDAvis) (3.6.0)\n",
            "Requirement already satisfied: python-dateutil>=2.7.3 in /usr/local/lib/python3.7/dist-packages (from pandas>=1.2.0->pyLDAvis) (2.8.2)\n",
            "Requirement already satisfied: pytz>=2017.3 in /usr/local/lib/python3.7/dist-packages (from pandas>=1.2.0->pyLDAvis) (2022.6)\n",
            "Requirement already satisfied: six>=1.5 in /usr/local/lib/python3.7/dist-packages (from python-dateutil>=2.7.3->pandas>=1.2.0->pyLDAvis) (1.15.0)\n",
            "Requirement already satisfied: smart-open>=1.2.1 in /usr/local/lib/python3.7/dist-packages (from gensim->pyLDAvis) (5.2.1)\n",
            "Requirement already satisfied: MarkupSafe>=0.23 in /usr/local/lib/python3.7/dist-packages (from jinja2->pyLDAvis) (2.0.1)\n",
            "Requirement already satisfied: threadpoolctl>=2.0.0 in /usr/local/lib/python3.7/dist-packages (from scikit-learn->pyLDAvis) (3.1.0)\n",
            "Building wheels for collected packages: pyLDAvis, sklearn\n",
            "  Building wheel for pyLDAvis (PEP 517) ... \u001b[?25l\u001b[?25hdone\n",
            "  Created wheel for pyLDAvis: filename=pyLDAvis-3.3.1-py2.py3-none-any.whl size=136898 sha256=82fe803bbbbd31ec2cc9b247ef75ada39d73e7f4cca3d513ee071e27633110c6\n",
            "  Stored in directory: /root/.cache/pip/wheels/c9/21/f6/17bcf2667e8a68532ba2fbf6d5c72fdf4c7f7d9abfa4852d2f\n",
            "  Building wheel for sklearn (setup.py) ... \u001b[?25l\u001b[?25hdone\n",
            "  Created wheel for sklearn: filename=sklearn-0.0.post1-py3-none-any.whl size=2344 sha256=5a91e92aef128c928ece34e501c64ec26cb5d0047ba7aa410504aab28db2625e\n",
            "  Stored in directory: /root/.cache/pip/wheels/42/56/cc/4a8bf86613aafd5b7f1b310477667c1fca5c51c3ae4124a003\n",
            "Successfully built pyLDAvis sklearn\n",
            "Installing collected packages: sklearn, funcy, pyLDAvis\n",
            "Successfully installed funcy-1.17 pyLDAvis-3.3.1 sklearn-0.0.post1\n",
            "Looking in indexes: https://pypi.org/simple, https://us-python.pkg.dev/colab-wheels/public/simple/\n",
            "\u001b[31mERROR: Could not find a version that satisfies the requirement pyLDAvis.gensim (from versions: none)\u001b[0m\n",
            "\u001b[31mERROR: No matching distribution found for pyLDAvis.gensim\u001b[0m\n"
          ]
        }
      ]
    },
    {
      "cell_type": "code",
      "source": [
        "from gensim import corpora, models\n",
        "import pyLDAvis\n",
        "import pyLDAvis.gensim_models\n",
        "import pickle \n",
        "import pyLDAvis\n",
        "import os"
      ],
      "metadata": {
        "colab": {
          "base_uri": "https://localhost:8080/"
        },
        "id": "ajWABFZaoYW4",
        "outputId": "b91340cd-3ad4-4aeb-bf2e-0398ded90f72"
      },
      "execution_count": 8,
      "outputs": [
        {
          "output_type": "stream",
          "name": "stderr",
          "text": [
            "/usr/local/lib/python3.7/dist-packages/past/types/oldstr.py:5: DeprecationWarning: Using or importing the ABCs from 'collections' instead of from 'collections.abc' is deprecated since Python 3.3,and in 3.9 it will stop working\n",
            "  from collections import Iterable\n"
          ]
        }
      ]
    },
    {
      "cell_type": "code",
      "source": [
        "word_mat = pd.read_pickle('allyears_all_new.pkl')\n",
        "word_mat = word_mat.T.reset_index().T\n",
        "word_mat.drop('level_0',inplace=True)"
      ],
      "metadata": {
        "id": "mduXA9d24uHz"
      },
      "execution_count": 9,
      "outputs": []
    },
    {
      "cell_type": "code",
      "source": [
        "word_mat = word_mat.T"
      ],
      "metadata": {
        "id": "q03fShQ_4vlh"
      },
      "execution_count": 10,
      "outputs": []
    },
    {
      "cell_type": "code",
      "source": [
        "word_mat = word_mat.drop(columns = [ 'third', 'say', 'wherein', 'less' , 'c' , 'b' , 'fourth' , 'array',\n",
        "                          'accord', 'device', 'method', 'comprise','comprising', 'compare' ,  'whether' , 'without' ,'within',\n",
        "                          'comprises', 'include', 'portion','determine', 'ratio' , 'two' , 'point' , 'period',\n",
        "                          'select','position','set','use','end' , 'id'  , 'data' ,  '0', '01', '05', '1', '10', '100', '12', '15', '2', '20',\n",
        "                           '200', '25', '3', '30', '4', '40', '5', '50', '500', '6' ,  '60', '70', '8', '80', '90','group' , 'cancel' , 'acceptable'])"
      ],
      "metadata": {
        "id": "sLu_k9N54xKT"
      },
      "execution_count": 11,
      "outputs": []
    },
    {
      "cell_type": "code",
      "source": [
        "from pprint import pprint\n",
        "import gensim\n",
        "import gensim.corpora as corpora\n",
        "id2word = corpora.Dictionary([list(word_mat.columns)])"
      ],
      "metadata": {
        "id": "3_YXpX4j45PH"
      },
      "execution_count": 12,
      "outputs": []
    },
    {
      "cell_type": "code",
      "source": [
        "pickle_in = open(\"outer_list.pkl\",\"rb\")\n",
        "outer_list_pkl = pickle.load(pickle_in)"
      ],
      "metadata": {
        "id": "egDZN_ABS7Yw"
      },
      "execution_count": 13,
      "outputs": []
    },
    {
      "cell_type": "code",
      "source": [
        "df_lengths = [1,150456,307779,469536,628516,751018]"
      ],
      "metadata": {
        "id": "v7k0g0rfSB6a"
      },
      "execution_count": 14,
      "outputs": []
    },
    {
      "cell_type": "code",
      "source": [
        "from gensim.models import LsiModel\n",
        "from gensim.models.coherencemodel import CoherenceModel"
      ],
      "metadata": {
        "id": "ePOLJVJ8SH2W"
      },
      "execution_count": 15,
      "outputs": []
    },
    {
      "cell_type": "markdown",
      "source": [
        "For 2018"
      ],
      "metadata": {
        "id": "UERTd5MBUE22"
      }
    },
    {
      "cell_type": "code",
      "source": [
        "df_lengths = [1,150456,307779,469536,628516,751018]\n",
        "outer_list_year = outer_list_pkl[df_lengths[0]-1:df_lengths[0+1]]\n",
        "tfidf = models.TfidfModel(outer_list_year)\n",
        "corpus_tfidf = tfidf[outer_list_year]"
      ],
      "metadata": {
        "id": "TfNYqCHhy-eF"
      },
      "execution_count": 15,
      "outputs": []
    },
    {
      "cell_type": "code",
      "source": [
        "coherence_values = []\n",
        "model_list = []\n",
        "for i in range(2, 40, 1):\n",
        "  # generate LSA model\n",
        "  model = gensim.models.LsiModel(corpus_tfidf, num_topics= i, id2word = id2word)\n",
        "  model_list.append(model)\n",
        "  coherencemodel = CoherenceModel(model = model, corpus = corpus_tfidf, dictionary = id2word, coherence = 'u_mass')\n",
        "  coherence_values.append(coherencemodel.get_coherence())"
      ],
      "metadata": {
        "id": "-VsUSvc86Cci"
      },
      "execution_count": 17,
      "outputs": []
    },
    {
      "cell_type": "code",
      "source": [
        "import matplotlib.pyplot as plt\n",
        "x = range(2, 40, 1)\n",
        "plt.figure(figsize = (10,8))\n",
        "plt.plot(x, coherence_values)\n",
        "plt.xlabel(\"Number of Topics\")\n",
        "plt.ylabel(\"Coherence score\")\n",
        "plt.legend((\"coherence_values\"), loc='best')\n",
        "plt.title('Coherence score vs Number of Topics plot for 2018')\n",
        "plt.show()"
      ],
      "metadata": {
        "colab": {
          "base_uri": "https://localhost:8080/",
          "height": 513
        },
        "id": "NyQ6CzyVH66M",
        "outputId": "3bfb7358-ab35-43a2-9b41-d96b0e0a959e"
      },
      "execution_count": 18,
      "outputs": [
        {
          "output_type": "display_data",
          "data": {
            "text/plain": [
              "<Figure size 720x576 with 1 Axes>"
            ],
            "image/png": "[encoded data removed]"
          },
          "metadata": {
            "needs_background": "light"
          }
        }
      ]
    },
    {
      "cell_type": "code",
      "source": [
        "coherence_values[8]"
      ],
      "metadata": {
        "colab": {
          "base_uri": "https://localhost:8080/"
        },
        "id": "01MXrqgrYOl_",
        "outputId": "dc7cff11-8291-49d2-b46c-b12803e2c345"
      },
      "execution_count": 24,
      "outputs": [
        {
          "output_type": "execute_result",
          "data": {
            "text/plain": [
              "-2.3182869157835464"
            ]
          },
          "metadata": {},
          "execution_count": 24
        }
      ]
    },
    {
      "cell_type": "code",
      "source": [
        "pickle.dump(model_list[8], open('lsa_model_2018.pkl', 'wb'))"
      ],
      "metadata": {
        "id": "0X4BXF6uZFvh"
      },
      "execution_count": 25,
      "outputs": []
    },
    {
      "cell_type": "code",
      "source": [
        "ls"
      ],
      "metadata": {
        "colab": {
          "base_uri": "https://localhost:8080/"
        },
        "id": "ovEUqz9OaIEv",
        "outputId": "57553416-be5f-4f4c-d96b-14873b790fb4"
      },
      "execution_count": 26,
      "outputs": [
        {
          "output_type": "stream",
          "name": "stdout",
          "text": [
            "2018-data-merged.csv  demo_matrix_file.csv     tf_idf_final.pkl\n",
            "2019-data-merged.csv  ldavis_prepared_20       Topics-2018-data-merged.csv\n",
            "2020-data-merged.csv  ldavis_prepared_20.html  Topics-2019-data-merged.csv\n",
            "2021-data-merged.csv  lsa_model_2018.pkl       Topics-2020-data-merged.csv\n",
            "2022-data-merged.csv  out-corpus-tfidf.csv     Topics-2021-data-merged.csv\n",
            "allyears_all_new.pkl  out.csv                  Topics-2022-data-merged.csv\n",
            "allyears_all.pkl      outer_list.pkl\n",
            "corpus_tf_idf.pkl     output.csv\n"
          ]
        }
      ]
    },
    {
      "cell_type": "code",
      "source": [
        "lsa_model_2018 = pickle.load(open('lsa_model_2018.pkl', 'rb'))\n",
        "for idx, topic in lsa_model_2018.print_topics(-1):\n",
        "  print('Topic: {} \\nWords: {}'.format(idx, topic))"
      ],
      "metadata": {
        "colab": {
          "base_uri": "https://localhost:8080/"
        },
        "id": "4xuXFxl_6YmO",
        "outputId": "e5712d3f-d2d3-4fef-e596-ed61f96da40a"
      },
      "execution_count": 27,
      "outputs": [
        {
          "output_type": "stream",
          "name": "stdout",
          "text": [
            "Topic: 0 \n",
            "Words: 0.239*\"system\" + 0.166*\"computer\" + 0.143*\"medium\" + 0.141*\"layer\" + 0.137*\"processor\" + 0.136*\"signal\" + 0.132*\"surface\" + 0.132*\"program\" + 0.131*\"plurality\" + 0.123*\"information\"\n",
            "Topic: 1 \n",
            "Words: -0.283*\"layer\" + 0.250*\"computer\" + -0.223*\"surface\" + 0.200*\"program\" + 0.191*\"medium\" + 0.189*\"system\" + 0.169*\"processor\" + -0.164*\"material\" + 0.160*\"instruction\" + 0.152*\"nontransitory\"\n",
            "Topic: 2 \n",
            "Words: -0.389*\"acid\" + -0.320*\"layer\" + -0.216*\"composition\" + -0.208*\"consist\" + 0.185*\"member\" + -0.183*\"thereof\" + -0.182*\"agent\" + -0.176*\"weight\" + -0.151*\"cell\" + -0.141*\"sequence\"\n",
            "Topic: 3 \n",
            "Words: -0.620*\"layer\" + 0.250*\"acid\" + 0.228*\"signal\" + -0.203*\"computer\" + -0.162*\"program\" + -0.135*\"medium\" + 0.133*\"cell\" + 0.124*\"composition\" + 0.120*\"sequence\" + -0.118*\"material\"\n",
            "Topic: 4 \n",
            "Words: 0.419*\"layer\" + 0.380*\"signal\" + -0.222*\"member\" + -0.201*\"computer\" + -0.171*\"acid\" + -0.168*\"program\" + 0.147*\"voltage\" + -0.142*\"surface\" + 0.127*\"output\" + -0.122*\"product\"\n",
            "Topic: 5 \n",
            "Words: 0.823*\"system\" + -0.481*\"apparatus\" + -0.099*\"medium\" + -0.086*\"program\" + -0.086*\"processor\" + -0.080*\"computer\" + -0.071*\"nontransitory\" + -0.071*\"signal\" + -0.058*\"cause\" + -0.058*\"instruction\"\n",
            "Topic: 6 \n",
            "Words: 0.566*\"apparatus\" + -0.353*\"computer\" + -0.353*\"program\" + -0.294*\"signal\" + -0.252*\"product\" + 0.216*\"system\" + 0.185*\"information\" + -0.140*\"voltage\" + 0.127*\"user\" + -0.106*\"circuit\"\n",
            "Topic: 7 \n",
            "Words: -0.575*\"apparatus\" + -0.350*\"system\" + 0.306*\"user\" + 0.274*\"information\" + 0.164*\"member\" + 0.153*\"image\" + 0.144*\"display\" + -0.141*\"program\" + -0.135*\"computer\" + -0.124*\"signal\"\n",
            "Topic: 8 \n",
            "Words: 0.556*\"member\" + -0.473*\"element\" + 0.296*\"signal\" + -0.240*\"image\" + 0.193*\"layer\" + 0.175*\"acid\" + -0.149*\"light\" + 0.149*\"cell\" + -0.111*\"material\" + 0.108*\"sequence\"\n",
            "Topic: 9 \n",
            "Words: -0.339*\"cell\" + -0.322*\"element\" + 0.234*\"member\" + -0.230*\"medium\" + -0.216*\"computerreadable\" + -0.212*\"sequence\" + 0.194*\"product\" + 0.188*\"program\" + -0.188*\"nontransitory\" + 0.182*\"information\"\n"
          ]
        }
      ]
    },
    {
      "cell_type": "markdown",
      "source": [
        "For 2019"
      ],
      "metadata": {
        "id": "iSfAl4FaVbqE"
      }
    },
    {
      "cell_type": "code",
      "source": [
        "outer_list_year_2019 = outer_list_pkl[df_lengths[1]-1:df_lengths[1+1]]\n",
        "tfidf_2019 = models.TfidfModel(outer_list_year_2019)\n",
        "corpus_tfidf_2019 = tfidf_2019[outer_list_year_2019]"
      ],
      "metadata": {
        "id": "BOUzKOkGVBS8"
      },
      "execution_count": 28,
      "outputs": []
    },
    {
      "cell_type": "code",
      "source": [
        "coherence_values_2019 = []\n",
        "model_list_2019 = []\n",
        "for i in range(2, 40, 1):\n",
        "  # generate LSA model\n",
        "  model = gensim.models.LsiModel(corpus_tfidf_2019, num_topics= i, id2word = id2word)\n",
        "  model_list_2019.append(model)\n",
        "  coherencemodel = CoherenceModel(model = model, corpus = corpus_tfidf_2019, dictionary = id2word, coherence = 'u_mass')\n",
        "  coherence_values_2019.append(coherencemodel.get_coherence())"
      ],
      "metadata": {
        "id": "Wqg8H4dQVFIx"
      },
      "execution_count": 29,
      "outputs": []
    },
    {
      "cell_type": "code",
      "source": [
        "x = range(2, 40, 1)\n",
        "plt.figure(figsize = (10,8))\n",
        "plt.plot(x, coherence_values_2019)\n",
        "plt.xlabel(\"Number of Topics\")\n",
        "plt.ylabel(\"Coherence score\")\n",
        "plt.legend((\"coherence_values\"), loc='best')\n",
        "plt.title('Coherence score vs Number of Topics plot for 2019')\n",
        "plt.show()"
      ],
      "metadata": {
        "colab": {
          "base_uri": "https://localhost:8080/",
          "height": 513
        },
        "id": "Ly9-u47cVG_y",
        "outputId": "0faf4cca-ff8b-46fe-dab6-0978eecefaed"
      },
      "execution_count": 30,
      "outputs": [
        {
          "output_type": "display_data",
          "data": {
            "text/plain": [
              "<Figure size 720x576 with 1 Axes>"
            ],
            "image/png": "[encoded data removed]"
          },
          "metadata": {
            "needs_background": "light"
          }
        }
      ]
    },
    {
      "cell_type": "code",
      "source": [
        "coherence_values_2019[6], coherence_values_2019[7], coherence_values_2019[8], coherence_values_2019[9], coherence_values_2019[10]"
      ],
      "metadata": {
        "colab": {
          "base_uri": "https://localhost:8080/"
        },
        "id": "drXjuYsSeM1-",
        "outputId": "96e487ee-f061-47ed-ffe3-c505e93581f0"
      },
      "execution_count": 35,
      "outputs": [
        {
          "output_type": "execute_result",
          "data": {
            "text/plain": [
              "(-2.1163741164586805,\n",
              " -2.173338563289997,\n",
              " -2.170205441618728,\n",
              " -2.121907924862948,\n",
              " -2.281604852794087)"
            ]
          },
          "metadata": {},
          "execution_count": 35
        }
      ]
    },
    {
      "cell_type": "code",
      "source": [
        "pickle.dump(model_list_2019[7], open('lsa_model_2019.pkl', 'wb'))"
      ],
      "metadata": {
        "id": "iNwsrZIfao04"
      },
      "execution_count": 36,
      "outputs": []
    },
    {
      "cell_type": "code",
      "source": [
        "lsa_model_2019 = pickle.load(open('lsa_model_2019.pkl', 'rb'))\n",
        "for idx, topic in lsa_model_2019.print_topics(-1):\n",
        "  print('Topic: {} \\nWords: {}'.format(idx, topic))"
      ],
      "metadata": {
        "colab": {
          "base_uri": "https://localhost:8080/"
        },
        "id": "2ObW9CVAaqpk",
        "outputId": "3ab56287-0358-4ec9-d02a-a2599bc9d983"
      },
      "execution_count": 37,
      "outputs": [
        {
          "output_type": "stream",
          "name": "stdout",
          "text": [
            "Topic: 0 \n",
            "Words: 0.247*\"system\" + 0.174*\"computer\" + 0.155*\"medium\" + 0.148*\"processor\" + 0.141*\"layer\" + 0.133*\"program\" + 0.132*\"plurality\" + 0.132*\"signal\" + 0.126*\"surface\" + 0.123*\"information\"\n",
            "Topic: 1 \n",
            "Words: -0.292*\"layer\" + 0.246*\"computer\" + -0.225*\"surface\" + 0.202*\"medium\" + 0.188*\"program\" + 0.177*\"system\" + 0.173*\"processor\" + 0.165*\"nontransitory\" + -0.164*\"material\" + 0.159*\"instruction\"\n",
            "Topic: 2 \n",
            "Words: -0.409*\"acid\" + -0.243*\"layer\" + -0.228*\"composition\" + -0.215*\"consist\" + -0.195*\"thereof\" + -0.191*\"agent\" + -0.183*\"cell\" + -0.178*\"weight\" + 0.170*\"member\" + -0.170*\"sequence\"\n",
            "Topic: 3 \n",
            "Words: -0.667*\"layer\" + 0.209*\"signal\" + 0.207*\"acid\" + -0.193*\"computer\" + -0.148*\"medium\" + -0.145*\"program\" + 0.129*\"cell\" + -0.121*\"material\" + -0.120*\"nontransitory\" + 0.116*\"sequence\"\n",
            "Topic: 4 \n",
            "Words: 0.405*\"layer\" + 0.375*\"signal\" + -0.225*\"member\" + -0.204*\"computer\" + -0.161*\"program\" + -0.159*\"surface\" + -0.145*\"acid\" + 0.143*\"voltage\" + -0.141*\"medium\" + 0.131*\"control\"\n",
            "Topic: 5 \n",
            "Words: -0.819*\"system\" + 0.486*\"apparatus\" + 0.093*\"medium\" + 0.092*\"signal\" + 0.089*\"program\" + 0.076*\"processor\" + 0.073*\"computer\" + 0.066*\"nontransitory\" + 0.059*\"cause\" + 0.057*\"unit\"\n",
            "Topic: 6 \n",
            "Words: 0.730*\"apparatus\" + 0.296*\"system\" + -0.284*\"signal\" + -0.249*\"computer\" + -0.236*\"program\" + -0.132*\"product\" + -0.122*\"voltage\" + 0.120*\"information\" + 0.101*\"image\" + -0.098*\"circuit\"\n",
            "Topic: 7 \n",
            "Words: -0.390*\"apparatus\" + 0.297*\"user\" + -0.294*\"system\" + -0.291*\"computer\" + -0.278*\"program\" + 0.275*\"information\" + -0.213*\"signal\" + -0.201*\"product\" + 0.187*\"image\" + 0.154*\"computerreadable\"\n",
            "Topic: 8 \n",
            "Words: 0.347*\"member\" + 0.334*\"cell\" + -0.318*\"image\" + 0.259*\"signal\" + 0.219*\"sequence\" + 0.195*\"acid\" + 0.182*\"layer\" + -0.149*\"weight\" + -0.136*\"unit\" + -0.136*\"element\"\n"
          ]
        }
      ]
    },
    {
      "cell_type": "markdown",
      "source": [
        "For 2020"
      ],
      "metadata": {
        "id": "5x-LjBl8Vh3Q"
      }
    },
    {
      "cell_type": "code",
      "source": [
        "outer_list_year_2020 = outer_list_pkl[df_lengths[2]-1:df_lengths[2+1]]\n",
        "tfidf_2020 = models.TfidfModel(outer_list_year_2020)\n",
        "corpus_tfidf_2020 = tfidf_2020[outer_list_year_2020]"
      ],
      "metadata": {
        "id": "XFq2jCLdVh3Q"
      },
      "execution_count": 38,
      "outputs": []
    },
    {
      "cell_type": "code",
      "source": [
        "coherence_values_2020 = []\n",
        "model_list_2020 = []\n",
        "for i in range(2, 40, 1):\n",
        "  # generate LSA model\n",
        "  model = gensim.models.LsiModel(corpus_tfidf_2020, num_topics= i, id2word = id2word)\n",
        "  model_list_2020.append(model)\n",
        "  coherencemodel = CoherenceModel(model = model, corpus = corpus_tfidf_2020, dictionary = id2word, coherence = 'u_mass')\n",
        "  coherence_values_2020.append(coherencemodel.get_coherence())"
      ],
      "metadata": {
        "id": "kdm-lZr9Vh3Q"
      },
      "execution_count": 39,
      "outputs": []
    },
    {
      "cell_type": "code",
      "source": [
        "import matplotlib.pyplot as plt\n",
        "x = range(2, 40, 1)\n",
        "plt.figure(figsize = (10,8))\n",
        "plt.plot(x, coherence_values_2020)\n",
        "plt.xlabel(\"Number of Topics\")\n",
        "plt.ylabel(\"Coherence score\")\n",
        "plt.legend((\"coherence_values\"), loc='best')\n",
        "plt.title('Coherence score vs Number of Topics plot for 2020')\n",
        "plt.show()"
      ],
      "metadata": {
        "colab": {
          "base_uri": "https://localhost:8080/",
          "height": 513
        },
        "id": "PK_mlURCVh3Q",
        "outputId": "843012cc-d9dc-4876-8376-30f229500a6e"
      },
      "execution_count": 40,
      "outputs": [
        {
          "output_type": "display_data",
          "data": {
            "text/plain": [
              "<Figure size 720x576 with 1 Axes>"
            ],
            "image/png": "[encoded data removed]"
          },
          "metadata": {
            "needs_background": "light"
          }
        }
      ]
    },
    {
      "cell_type": "code",
      "source": [
        "coherence_values_2020[6], coherence_values_2020[7], coherence_values_2020[8], coherence_values_2020[9], coherence_values_2020[10]"
      ],
      "metadata": {
        "colab": {
          "base_uri": "https://localhost:8080/"
        },
        "id": "UYcQrSBOgJim",
        "outputId": "171e2c58-e3a5-4bbe-a112-71ab84f405db"
      },
      "execution_count": 41,
      "outputs": [
        {
          "output_type": "execute_result",
          "data": {
            "text/plain": [
              "(-2.1762782985361513,\n",
              " -2.214549259673416,\n",
              " -2.2817730023818745,\n",
              " -2.3254112148981028,\n",
              " -2.2742684665291137)"
            ]
          },
          "metadata": {},
          "execution_count": 41
        }
      ]
    },
    {
      "cell_type": "code",
      "source": [
        "pickle.dump(model_list_2020[9], open('lsa_model_2020.pkl', 'wb'))"
      ],
      "metadata": {
        "id": "52WowRdrV_Cx"
      },
      "execution_count": 42,
      "outputs": []
    },
    {
      "cell_type": "code",
      "source": [
        "lsa_model_2020 = pickle.load(open('lsa_model_2020.pkl', 'rb'))\n",
        "for idx, topic in lsa_model_2020.print_topics(-1):\n",
        "  print('Topic: {} \\nWords: {}'.format(idx, topic))"
      ],
      "metadata": {
        "colab": {
          "base_uri": "https://localhost:8080/"
        },
        "id": "CfXQA3mLgUxG",
        "outputId": "7ad7b957-8434-4de2-a092-42253852e090"
      },
      "execution_count": 43,
      "outputs": [
        {
          "output_type": "stream",
          "name": "stdout",
          "text": [
            "Topic: 0 \n",
            "Words: 0.259*\"system\" + 0.183*\"computer\" + 0.163*\"medium\" + 0.163*\"processor\" + 0.140*\"program\" + 0.137*\"layer\" + 0.133*\"plurality\" + 0.129*\"nontransitory\" + 0.129*\"instruction\" + 0.127*\"information\"\n",
            "Topic: 1 \n",
            "Words: -0.285*\"layer\" + 0.239*\"computer\" + -0.227*\"surface\" + 0.197*\"medium\" + 0.181*\"program\" + 0.177*\"processor\" + 0.177*\"system\" + 0.171*\"nontransitory\" + -0.164*\"material\" + 0.155*\"instruction\"\n",
            "Topic: 2 \n",
            "Words: -0.409*\"acid\" + -0.245*\"composition\" + -0.223*\"layer\" + -0.213*\"consist\" + -0.203*\"thereof\" + -0.197*\"cell\" + -0.185*\"agent\" + -0.183*\"weight\" + -0.165*\"sequence\" + 0.159*\"member\"\n",
            "Topic: 3 \n",
            "Words: -0.624*\"layer\" + 0.227*\"signal\" + -0.209*\"computer\" + 0.176*\"acid\" + -0.158*\"program\" + -0.157*\"medium\" + -0.134*\"nontransitory\" + -0.126*\"material\" + 0.125*\"cell\" + 0.124*\"control\"\n",
            "Topic: 4 \n",
            "Words: 0.461*\"layer\" + 0.311*\"signal\" + -0.219*\"member\" + -0.197*\"computer\" + -0.162*\"acid\" + -0.154*\"program\" + -0.151*\"surface\" + 0.149*\"information\" + 0.129*\"value\" + -0.127*\"medium\"\n",
            "Topic: 5 \n",
            "Words: -0.792*\"system\" + 0.533*\"apparatus\" + 0.101*\"processor\" + 0.092*\"medium\" + 0.069*\"nontransitory\" + 0.069*\"program\" + -0.066*\"layer\" + 0.065*\"cause\" + 0.060*\"information\" + 0.060*\"computerreadable\"\n",
            "Topic: 6 \n",
            "Words: 0.672*\"apparatus\" + 0.383*\"system\" + -0.285*\"computer\" + -0.266*\"program\" + -0.240*\"signal\" + -0.157*\"product\" + -0.124*\"voltage\" + 0.107*\"information\" + -0.106*\"unit\" + -0.098*\"circuit\"\n",
            "Topic: 7 \n",
            "Words: -0.435*\"apparatus\" + -0.301*\"computer\" + -0.298*\"program\" + -0.271*\"system\" + 0.270*\"user\" + 0.259*\"information\" + -0.214*\"product\" + 0.198*\"computerreadable\" + -0.190*\"signal\" + 0.168*\"medium\"\n",
            "Topic: 8 \n",
            "Words: -0.442*\"image\" + 0.299*\"signal\" + 0.272*\"cell\" + 0.204*\"computerreadable\" + 0.200*\"medium\" + -0.198*\"user\" + 0.179*\"nontransitory\" + -0.177*\"program\" + -0.167*\"information\" + -0.165*\"product\"\n",
            "Topic: 9 \n",
            "Words: 0.366*\"cell\" + 0.272*\"information\" + 0.228*\"program\" + -0.228*\"computerreadable\" + 0.226*\"member\" + -0.217*\"medium\" + 0.200*\"computer\" + -0.198*\"nontransitory\" + 0.196*\"layer\" + 0.182*\"product\"\n",
            "Topic: 10 \n",
            "Words: -0.421*\"image\" + -0.347*\"region\" + -0.309*\"cell\" + 0.231*\"member\" + -0.226*\"sequence\" + -0.226*\"light\" + 0.200*\"weight\" + 0.199*\"information\" + 0.165*\"user\" + -0.111*\"acid\"\n"
          ]
        }
      ]
    },
    {
      "cell_type": "markdown",
      "source": [
        "For 2021"
      ],
      "metadata": {
        "id": "uDpPD_zzWDE9"
      }
    },
    {
      "cell_type": "code",
      "source": [
        "outer_list_year_2021 = outer_list_pkl[df_lengths[3]-1:df_lengths[3+1]]\n",
        "tfidf_2021 = models.TfidfModel(outer_list_year_2021)\n",
        "corpus_tfidf_2021 = tfidf_2021[outer_list_year_2021]"
      ],
      "metadata": {
        "id": "SZipsYUIWDE9"
      },
      "execution_count": 19,
      "outputs": []
    },
    {
      "cell_type": "code",
      "source": [
        "coherence_values_2021 = []\n",
        "model_list_2021 = []\n",
        "for i in range(2, 40, 1):\n",
        "  # generate LSA model\n",
        "  model = gensim.models.LsiModel(corpus_tfidf_2021, num_topics= i, id2word = id2word)\n",
        "  model_list_2021.append(model)\n",
        "  coherencemodel = CoherenceModel(model = model, corpus = corpus_tfidf_2021, dictionary = id2word, coherence = 'u_mass')\n",
        "  coherence_values_2021.append(coherencemodel.get_coherence())"
      ],
      "metadata": {
        "id": "g36633NyWDE9"
      },
      "execution_count": 21,
      "outputs": []
    },
    {
      "cell_type": "code",
      "source": [
        "import matplotlib.pyplot as plt\n",
        "x = range(2, 40, 1)\n",
        "plt.figure(figsize = (10,8))\n",
        "plt.plot(x, coherence_values_2021)\n",
        "plt.xlabel(\"Number of Topics\")\n",
        "plt.ylabel(\"Coherence score\")\n",
        "plt.legend((\"coherence_values\"), loc='best')\n",
        "plt.title('Coherence score vs Number of Topics plot for 2021')\n",
        "plt.show()"
      ],
      "metadata": {
        "colab": {
          "base_uri": "https://localhost:8080/",
          "height": 513
        },
        "id": "a-mFLJZiWDE9",
        "outputId": "747a29e4-4d52-4346-ab02-0728b4563601"
      },
      "execution_count": 22,
      "outputs": [
        {
          "output_type": "display_data",
          "data": {
            "text/plain": [
              "<Figure size 720x576 with 1 Axes>"
            ],
            "image/png": "[encoded data removed]"
          },
          "metadata": {
            "needs_background": "light"
          }
        }
      ]
    },
    {
      "cell_type": "code",
      "source": [
        "coherence_values_2021[6], coherence_values_2021[7], coherence_values_2021[8], coherence_values_2021[9], coherence_values_2021[10]"
      ],
      "metadata": {
        "colab": {
          "base_uri": "https://localhost:8080/"
        },
        "id": "F4vLVnRGgbf0",
        "outputId": "99057a67-f688-431f-cf79-5c9b720773b0"
      },
      "execution_count": 23,
      "outputs": [
        {
          "output_type": "execute_result",
          "data": {
            "text/plain": [
              "(-2.132157316809824,\n",
              " -2.2004593527853697,\n",
              " -2.311347589335587,\n",
              " -2.296350855387708,\n",
              " -2.3441999936691436)"
            ]
          },
          "metadata": {},
          "execution_count": 23
        }
      ]
    },
    {
      "cell_type": "code",
      "source": [
        "pickle.dump(model_list_2021[8], open('lsa_model_2021.pkl', 'wb'))"
      ],
      "metadata": {
        "id": "78lHxElcgfbW"
      },
      "execution_count": 24,
      "outputs": []
    },
    {
      "cell_type": "code",
      "source": [
        "lsa_model_2021 = pickle.load(open('lsa_model_2021.pkl', 'rb'))\n",
        "for idx, topic in lsa_model_2021.print_topics(-1):\n",
        "  print('Topic: {} \\nWords: {}'.format(idx, topic))"
      ],
      "metadata": {
        "colab": {
          "base_uri": "https://localhost:8080/"
        },
        "id": "yjxcG9s0WDE-",
        "outputId": "7484faf5-e384-4c27-85bb-956037f5e12c"
      },
      "execution_count": 25,
      "outputs": [
        {
          "output_type": "stream",
          "name": "stdout",
          "text": [
            "Topic: 0 \n",
            "Words: 0.262*\"system\" + 0.181*\"computer\" + 0.174*\"processor\" + 0.174*\"medium\" + 0.141*\"layer\" + 0.140*\"nontransitory\" + 0.135*\"instruction\" + 0.135*\"program\" + 0.131*\"plurality\" + 0.127*\"information\"\n",
            "Topic: 1 \n",
            "Words: -0.306*\"layer\" + -0.224*\"surface\" + 0.223*\"computer\" + 0.205*\"medium\" + 0.183*\"processor\" + 0.179*\"nontransitory\" + 0.170*\"system\" + 0.165*\"program\" + -0.161*\"material\" + 0.156*\"instruction\"\n",
            "Topic: 2 \n",
            "Words: -0.440*\"acid\" + -0.261*\"composition\" + -0.223*\"thereof\" + -0.222*\"cell\" + -0.215*\"consist\" + -0.204*\"sequence\" + -0.197*\"agent\" + -0.173*\"weight\" + 0.138*\"member\" + -0.137*\"combination\"\n",
            "Topic: 3 \n",
            "Words: -0.719*\"layer\" + 0.182*\"signal\" + -0.171*\"computer\" + -0.154*\"medium\" + -0.132*\"nontransitory\" + -0.123*\"program\" + -0.121*\"material\" + 0.112*\"control\" + -0.108*\"computerreadable\" + 0.106*\"acid\"\n",
            "Topic: 4 \n",
            "Words: 0.370*\"layer\" + 0.331*\"signal\" + -0.203*\"member\" + -0.198*\"computer\" + -0.176*\"surface\" + -0.172*\"medium\" + 0.150*\"information\" + -0.145*\"program\" + 0.141*\"value\" + -0.136*\"nontransitory\"\n",
            "Topic: 5 \n",
            "Words: -0.862*\"system\" + 0.376*\"apparatus\" + 0.105*\"program\" + 0.099*\"signal\" + 0.092*\"medium\" + 0.087*\"computer\" + 0.084*\"processor\" + 0.069*\"nontransitory\" + -0.065*\"layer\" + 0.064*\"storage\"\n",
            "Topic: 6 \n",
            "Words: 0.858*\"apparatus\" + 0.280*\"system\" + -0.161*\"signal\" + -0.132*\"computer\" + -0.120*\"medium\" + -0.095*\"program\" + -0.095*\"voltage\" + -0.092*\"nontransitory\" + -0.087*\"circuit\" + 0.086*\"processor\"\n",
            "Topic: 7 \n",
            "Words: 0.302*\"user\" + 0.293*\"information\" + 0.281*\"image\" + -0.268*\"computer\" + -0.251*\"signal\" + -0.251*\"program\" + -0.168*\"apparatus\" + 0.160*\"cell\" + -0.159*\"product\" + -0.154*\"system\"\n",
            "Topic: 8 \n",
            "Words: 0.385*\"cell\" + -0.370*\"image\" + 0.275*\"signal\" + 0.231*\"sequence\" + -0.204*\"weight\" + 0.184*\"acid\" + -0.152*\"user\" + -0.135*\"step\" + 0.130*\"member\" + -0.123*\"material\"\n",
            "Topic: 9 \n",
            "Words: -0.370*\"image\" + -0.336*\"program\" + -0.325*\"computer\" + -0.232*\"cell\" + -0.232*\"region\" + 0.232*\"computerreadable\" + -0.228*\"product\" + 0.189*\"medium\" + -0.183*\"sequence\" + 0.176*\"nontransitory\"\n"
          ]
        }
      ]
    },
    {
      "cell_type": "markdown",
      "source": [
        "For 2022"
      ],
      "metadata": {
        "id": "rYNFrLyIWT3b"
      }
    },
    {
      "cell_type": "code",
      "source": [
        "outer_list_year_2022 = outer_list_pkl[df_lengths[4]-1:df_lengths[4+1]]\n",
        "tfidf_2022 = models.TfidfModel(outer_list_year_2022)\n",
        "corpus_tfidf_2022 = tfidf_2022[outer_list_year_2022]"
      ],
      "metadata": {
        "id": "C0luozGzWT3c"
      },
      "execution_count": 26,
      "outputs": []
    },
    {
      "cell_type": "code",
      "source": [
        "coherence_values_2022 = []\n",
        "model_list_2022 = []\n",
        "for i in range(2, 40, 1):\n",
        "  # generate LSA model\n",
        "  model = gensim.models.LsiModel(corpus_tfidf_2022, num_topics= i, id2word = id2word)\n",
        "  model_list_2022.append(model)\n",
        "  coherencemodel = CoherenceModel(model = model, corpus = corpus_tfidf_2022, dictionary = id2word, coherence = 'u_mass')\n",
        "  coherence_values_2022.append(coherencemodel.get_coherence())"
      ],
      "metadata": {
        "id": "cv_SxALFWT3c"
      },
      "execution_count": 27,
      "outputs": []
    },
    {
      "cell_type": "code",
      "source": [
        "import matplotlib.pyplot as plt\n",
        "x = range(2, 40, 1)\n",
        "plt.figure(figsize = (10,8))\n",
        "plt.plot(x, coherence_values_2022)\n",
        "plt.xlabel(\"Number of Topics\")\n",
        "plt.ylabel(\"Coherence score\")\n",
        "plt.legend((\"coherence_values\"), loc='best')\n",
        "plt.title('Coherence score vs Number of Topics plot for 2022')\n",
        "plt.show()"
      ],
      "metadata": {
        "colab": {
          "base_uri": "https://localhost:8080/",
          "height": 513
        },
        "id": "9t8_kg-EWT3c",
        "outputId": "7407b09a-b8b1-40b8-b80a-108d24f8ea68"
      },
      "execution_count": 28,
      "outputs": [
        {
          "output_type": "display_data",
          "data": {
            "text/plain": [
              "<Figure size 720x576 with 1 Axes>"
            ],
            "image/png": "[encoded data removed]"
          },
          "metadata": {
            "needs_background": "light"
          }
        }
      ]
    },
    {
      "cell_type": "code",
      "source": [
        "coherence_values_2022[6], coherence_values_2022[7], coherence_values_2022[8], coherence_values_2022[9], coherence_values_2022[10]"
      ],
      "metadata": {
        "colab": {
          "base_uri": "https://localhost:8080/"
        },
        "id": "NMF4zFTMgn48",
        "outputId": "df714c08-75af-46b3-c590-aed3f33b42ad"
      },
      "execution_count": 29,
      "outputs": [
        {
          "output_type": "execute_result",
          "data": {
            "text/plain": [
              "(-2.044191939680308,\n",
              " -2.197545647265865,\n",
              " -2.1824803447631247,\n",
              " -2.2282731242880702,\n",
              " -2.27804239366843)"
            ]
          },
          "metadata": {},
          "execution_count": 29
        }
      ]
    },
    {
      "cell_type": "code",
      "source": [
        "pickle.dump(model_list_2022[7], open('lsa_model_2022.pkl', 'wb'))"
      ],
      "metadata": {
        "id": "Jv-kO5BRgrO_"
      },
      "execution_count": 30,
      "outputs": []
    },
    {
      "cell_type": "code",
      "source": [
        "lsa_model_2022 = pickle.load(open('lsa_model_2022.pkl', 'rb'))\n",
        "for idx, topic in lsa_model_2022.print_topics(-1):\n",
        "  print('Topic: {} \\nWords: {}'.format(idx, topic))"
      ],
      "metadata": {
        "colab": {
          "base_uri": "https://localhost:8080/"
        },
        "id": "ZW7BmQlsgthS",
        "outputId": "2fa38be6-5180-4a71-c443-857c2b496a77"
      },
      "execution_count": 31,
      "outputs": [
        {
          "output_type": "stream",
          "name": "stdout",
          "text": [
            "Topic: 0 \n",
            "Words: 0.254*\"system\" + 0.185*\"computer\" + 0.176*\"processor\" + 0.171*\"medium\" + 0.143*\"layer\" + 0.140*\"nontransitory\" + 0.139*\"program\" + 0.137*\"instruction\" + 0.136*\"plurality\" + 0.126*\"information\"\n",
            "Topic: 1 \n",
            "Words: -0.316*\"layer\" + 0.229*\"computer\" + -0.220*\"surface\" + 0.196*\"medium\" + 0.186*\"processor\" + 0.173*\"nontransitory\" + 0.171*\"program\" + -0.159*\"material\" + 0.158*\"instruction\" + 0.158*\"system\"\n",
            "Topic: 2 \n",
            "Words: -0.461*\"acid\" + -0.275*\"composition\" + -0.236*\"sequence\" + -0.226*\"cell\" + -0.220*\"consist\" + -0.215*\"thereof\" + -0.185*\"agent\" + -0.165*\"weight\" + -0.138*\"subject\" + -0.134*\"administer\"\n",
            "Topic: 3 \n",
            "Words: -0.734*\"layer\" + 0.188*\"signal\" + -0.178*\"computer\" + -0.139*\"medium\" + -0.134*\"program\" + -0.119*\"material\" + -0.117*\"nontransitory\" + 0.109*\"control\" + -0.097*\"computerreadable\" + 0.096*\"sensor\"\n",
            "Topic: 4 \n",
            "Words: 0.370*\"layer\" + 0.336*\"signal\" + -0.226*\"computer\" + -0.208*\"member\" + -0.172*\"program\" + -0.172*\"surface\" + -0.158*\"medium\" + 0.150*\"information\" + 0.145*\"value\" + 0.129*\"control\"\n",
            "Topic: 5 \n",
            "Words: -0.839*\"system\" + 0.417*\"apparatus\" + 0.131*\"signal\" + 0.090*\"program\" + 0.089*\"processor\" + 0.074*\"information\" + 0.064*\"medium\" + 0.059*\"unit\" + 0.058*\"computer\" + 0.058*\"cause\"\n",
            "Topic: 6 \n",
            "Words: 0.787*\"apparatus\" + 0.259*\"system\" + -0.254*\"signal\" + -0.227*\"computer\" + -0.186*\"program\" + -0.114*\"voltage\" + -0.090*\"medium\" + 0.089*\"information\" + -0.088*\"circuit\" + 0.084*\"image\"\n",
            "Topic: 7 \n",
            "Words: -0.380*\"computer\" + -0.339*\"program\" + -0.261*\"apparatus\" + 0.237*\"computerreadable\" + -0.234*\"product\" + 0.200*\"user\" + 0.198*\"information\" + 0.182*\"cell\" + 0.178*\"nontransitory\" + 0.176*\"medium\"\n",
            "Topic: 8 \n",
            "Words: 0.364*\"cell\" + 0.282*\"signal\" + -0.270*\"image\" + 0.264*\"system\" + 0.263*\"sequence\" + -0.224*\"weight\" + 0.222*\"apparatus\" + -0.202*\"user\" + 0.167*\"acid\" + -0.143*\"information\"\n"
          ]
        }
      ]
    }
  ]
}